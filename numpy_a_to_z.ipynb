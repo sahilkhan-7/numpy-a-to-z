{
 "cells": [
  {
   "cell_type": "markdown",
   "metadata": {},
   "source": [
    "# <font color = \"#6585e7\"><b>Numpy A to Z</b></font>"
   ]
  },
  {
   "cell_type": "markdown",
   "metadata": {},
   "source": [
    "NumPy is the fundamental package for scientific computing in Python. It is a Python library that provides a multidimensional array object, various derived objects (such as masked arrays and matrices), and an assortment of routines for fast operations on arrays, including mathematical, logical, shape manipulation, sorting, selecting, I/O, discrete Fourier transforms, basic linear algebra, basic statistical operations, random simulation and much more."
   ]
  },
  {
   "cell_type": "markdown",
   "metadata": {},
   "source": [
    "NumPy, short for Numerical Python, is an essential library in the Python ecosystem for numerical computing. It provides support for large, multi-dimensional arrays and matrices, along with a collection of mathematical functions to operate on these arrays efficiently. NumPy serves as the foundation for a variety of scientific computing libraries, such as SciPy (for scientific computing), Pandas (for data analysis), and Matplotlib (for data visualization)."
   ]
  },
  {
   "cell_type": "markdown",
   "metadata": {},
   "source": [
    "### <b>Creating Array in Python</b>"
   ]
  },
  {
   "cell_type": "code",
   "execution_count": 51,
   "metadata": {},
   "outputs": [
    {
     "name": "stdout",
     "output_type": "stream",
     "text": [
      "The new created array is :  array('i', [1, 2, 3, 4, 5])\n"
     ]
    }
   ],
   "source": [
    "import array\n",
    "\n",
    "# syntax : \n",
    "# array.array(typecode, [Initializers]), typecodes = i, f, d, u, l, b, B, h, H for int, float, double, unicode, long, signed char, unsigned char, short, unsigned short respectively\n",
    "arr = array.array('i', [1, 2, 3, 4, 5]) # this will create an array of integers\n",
    "print(\"The new created array is : \", arr)"
   ]
  },
  {
   "cell_type": "code",
   "execution_count": 52,
   "metadata": {},
   "outputs": [
    {
     "name": "stdout",
     "output_type": "stream",
     "text": [
      "The new created array is :  array('f', [1.100000023841858, 2.200000047683716, 3.299999952316284, 4.400000095367432, 5.5])\n"
     ]
    }
   ],
   "source": [
    "arr_float = array.array('f', [1.1, 2.2, 3.3, 4.4, 5.5]) \n",
    "print(\"The new created array is : \", arr_float)"
   ]
  },
  {
   "cell_type": "code",
   "execution_count": 53,
   "metadata": {},
   "outputs": [
    {
     "data": {
      "text/plain": [
       "array('i', [1, 2, 3, 4, 5, 6, 7, 8, 9, 10])"
      ]
     },
     "execution_count": 53,
     "metadata": {},
     "output_type": "execute_result"
    }
   ],
   "source": [
    "a = array.array('i', [1, 2, 3, 4, 5])\n",
    "b = array.array('i', [6, 7, 8, 9, 10])\n",
    "c = a + b # concatenation of two arrays\n",
    "c"
   ]
  },
  {
   "cell_type": "code",
   "execution_count": 54,
   "metadata": {},
   "outputs": [
    {
     "name": "stdout",
     "output_type": "stream",
     "text": [
      "The new created array is :  array('i', [7, 9, 11, 13, 15])\n"
     ]
    }
   ],
   "source": [
    "# adding the elements of two arrays\n",
    "d = array.array('i', [0, 0, 0, 0, 0])\n",
    "for i in range(len(a)):\n",
    "    d[i] = a[i] + b[i]\n",
    "print(\"The new created array is : \", d)"
   ]
  },
  {
   "cell_type": "markdown",
   "metadata": {},
   "source": [
    "## <b>Creating Numpy array</b>"
   ]
  },
  {
   "cell_type": "code",
   "execution_count": 55,
   "metadata": {},
   "outputs": [],
   "source": [
    "import numpy as np # np is a standard alias for numpy"
   ]
  },
  {
   "cell_type": "markdown",
   "metadata": {},
   "source": [
    "### <b>Creating an numpy array using list, tuple, range, etc</b>"
   ]
  },
  {
   "cell_type": "code",
   "execution_count": 56,
   "metadata": {},
   "outputs": [
    {
     "name": "stdout",
     "output_type": "stream",
     "text": [
      "[1 2 3 4 5]\n",
      "[1 2 3 4 5]\n",
      "[1 2 3 4 5]\n"
     ]
    }
   ],
   "source": [
    "l = [1, 2, 3, 4, 5]\n",
    "arr1 = np.array(l)\n",
    "\n",
    "t = (1, 2, 3, 4, 5)\n",
    "arr2 = np.array(t)\n",
    "\n",
    "arr3 = np.array(range(1, 6))\n",
    "print(arr1)\n",
    "print(arr2)\n",
    "print(arr3)"
   ]
  },
  {
   "cell_type": "markdown",
   "metadata": {},
   "source": [
    "### <b>Creating an numpy array using arange, linspace, etc</b>"
   ]
  },
  {
   "cell_type": "code",
   "execution_count": 57,
   "metadata": {},
   "outputs": [
    {
     "name": "stdout",
     "output_type": "stream",
     "text": [
      "[1 2 3 4 5]\n",
      "[1. 2. 3. 4. 5.]\n",
      "[1.         1.44444444 1.88888889 2.33333333 2.77777778 3.22222222\n",
      " 3.66666667 4.11111111 4.55555556 5.        ]\n"
     ]
    }
   ],
   "source": [
    "arr = np.arange(1, 6) # this will create an array of 1 to 5 like range function\n",
    "print(arr)\n",
    "\n",
    "arr = np.linspace(1, 5, 5) # this will create an array of 1 to 5 with 5 equally spaced elements\n",
    "print(arr)\n",
    "\n",
    "arr = np.linspace(1, 5, 10) # this will create an array of 1 to 5 with 10 equally spaced elements, difference between two consecutive elements will be same\n",
    "print(arr)"
   ]
  },
  {
   "cell_type": "markdown",
   "metadata": {},
   "source": [
    "### <b>Creating other types of arrays</b>"
   ]
  },
  {
   "cell_type": "code",
   "execution_count": 58,
   "metadata": {},
   "outputs": [
    {
     "name": "stdout",
     "output_type": "stream",
     "text": [
      "[10 10 10 10 10]\n"
     ]
    }
   ],
   "source": [
    "# creating an array of constant values\n",
    "\n",
    "arr = np.full(5, 10) # this will create an array of 5 elements with all elements as 10\n",
    "print(arr)"
   ]
  },
  {
   "cell_type": "code",
   "execution_count": 59,
   "metadata": {},
   "outputs": [
    {
     "name": "stdout",
     "output_type": "stream",
     "text": [
      "[10 10 10 10 10]\n"
     ]
    }
   ],
   "source": [
    "arr = np.empty(5, dtype=int) # this will create an array of 5 elements with random values of integer type\n",
    "print(arr)"
   ]
  },
  {
   "cell_type": "markdown",
   "metadata": {},
   "source": [
    "### <b>Creating Multidimensional Arrays</b>"
   ]
  },
  {
   "cell_type": "code",
   "execution_count": 60,
   "metadata": {},
   "outputs": [
    {
     "name": "stdout",
     "output_type": "stream",
     "text": [
      "[[1 2 3]\n",
      " [4 5 6]\n",
      " [7 8 9]]\n"
     ]
    }
   ],
   "source": [
    "# Creaing 2d array\n",
    "# with 2d list, tuple\n",
    "\n",
    "l = [[1, 2, 3], [4, 5, 6], [7, 8, 9]]\n",
    "arr = np.array(l)\n",
    "print(arr)\n",
    "\n"
   ]
  },
  {
   "cell_type": "code",
   "execution_count": 61,
   "metadata": {},
   "outputs": [
    {
     "name": "stdout",
     "output_type": "stream",
     "text": [
      "[[[ 1  2  3]\n",
      "  [ 4  5  6]]\n",
      "\n",
      " [[ 7  8  9]\n",
      "  [10 11 12]]]\n"
     ]
    }
   ],
   "source": [
    "# Creaing 3d array\n",
    "\n",
    "arr = np.array([[[1, 2, 3], [4, 5, 6]], [[7, 8, 9], [10, 11, 12]]])\n",
    "print(arr)"
   ]
  },
  {
   "cell_type": "markdown",
   "metadata": {},
   "source": [
    "---"
   ]
  },
  {
   "cell_type": "markdown",
   "metadata": {},
   "source": [
    "### <b>Shape, Size, Dtype and Ndim</b>"
   ]
  },
  {
   "cell_type": "code",
   "execution_count": 62,
   "metadata": {},
   "outputs": [
    {
     "name": "stdout",
     "output_type": "stream",
     "text": [
      "Shape of the arr: (2, 2, 3)\n",
      "Size of the arr: 12\n",
      "Dimension of arr: 3\n"
     ]
    }
   ],
   "source": [
    "# checking the shape of the array, shape method will return the shape of the array\n",
    "print(f\"Shape of the arr: {arr.shape}\")\n",
    "\n",
    "# checking the size of the array, size method will return the total number of elements in the array\n",
    "print(f\"Size of the arr: {arr.size}\")\n",
    "\n",
    "# checking the dimension of the array, ndim is used to check the dimension of the array\n",
    "print(f\"Dimension of arr: {arr.ndim}\")"
   ]
  },
  {
   "cell_type": "code",
   "execution_count": 63,
   "metadata": {},
   "outputs": [
    {
     "name": "stdout",
     "output_type": "stream",
     "text": [
      "Dimension of arr1: 1\n",
      "Dimension of arr2: 2\n",
      "Dimension of arr3: 3\n"
     ]
    }
   ],
   "source": [
    "arr1 = np.array([1, 2, 3, 4, 5])\n",
    "arr2 = np.array([[1, 2, 3], [4, 5, 6]])\n",
    "arr3 = np.array([[[1, 2, 3], [4, 5, 6]], [[7, 8, 9], [10, 11, 12]]])\n",
    "print(f\"Dimension of arr1: {arr1.ndim}\")\n",
    "print(f\"Dimension of arr2: {arr2.ndim}\")\n",
    "print(f\"Dimension of arr3: {arr3.ndim}\")"
   ]
  },
  {
   "cell_type": "code",
   "execution_count": 64,
   "metadata": {},
   "outputs": [
    {
     "name": "stdout",
     "output_type": "stream",
     "text": [
      "[[ 1.  2.  3.  4.  5.]\n",
      " [ 6.  7.  8.  9. 10.]]\n",
      "Array shape: (2, 5)\n",
      "Size of Array: 10\n",
      "Itemsize of the Array: 8\n",
      "Datatype of the Array: float64\n",
      "Dimension of arr: 2\n"
     ]
    }
   ],
   "source": [
    "arr = np.array([[1, 2, 3, 4, 5], [6, 7, 8, 9, 10]], dtype=float)\n",
    "print(arr)\n",
    "print(f\"Array shape: {arr.shape}\")\n",
    "print(f\"Size of Array: {arr.size}\")\n",
    "print(f\"Itemsize of the Array: {arr.itemsize}\")\n",
    "print(f\"Datatype of the Array: {arr.dtype}\")\n",
    "print(f\"Dimension of arr: {arr.ndim}\")"
   ]
  },
  {
   "cell_type": "code",
   "execution_count": 65,
   "metadata": {},
   "outputs": [
    {
     "name": "stdout",
     "output_type": "stream",
     "text": [
      "[[[ 1.  2.  3.  4.  5.]\n",
      "  [ 6.  7.  8.  9. 10.]]\n",
      "\n",
      " [[11. 12. 13. 14. 15.]\n",
      "  [16. 17. 18. 19. 20.]]]\n",
      "Array shape: (2, 2, 5)\n",
      "Size of Array: 20\n",
      "Itemsize of the Array: 8\n",
      "Datatype of the Array: float64\n",
      "Dimension of arr: 3\n"
     ]
    }
   ],
   "source": [
    "arr = np.array([[[1, 2, 3, 4, 5], [6, 7, 8, 9, 10]], [[11, 12, 13, 14, 15], [16, 17, 18, 19, 20]]], dtype=float)\n",
    "print(arr)\n",
    "print(f\"Array shape: {arr.shape}\")\n",
    "print(f\"Size of Array: {arr.size}\")\n",
    "print(f\"Itemsize of the Array: {arr.itemsize}\")\n",
    "print(f\"Datatype of the Array: {arr.dtype}\")\n",
    "print(f\"Dimension of arr: {arr.ndim}\")"
   ]
  },
  {
   "cell_type": "markdown",
   "metadata": {},
   "source": [
    "### <b>Zeros and Ones Array</b>"
   ]
  },
  {
   "cell_type": "code",
   "execution_count": 66,
   "metadata": {},
   "outputs": [
    {
     "name": "stdout",
     "output_type": "stream",
     "text": [
      "[1. 1. 1. 1. 1.]\n",
      "[0. 0. 0. 0. 0.]\n",
      "[0. 0. 0. 0. 0.]\n"
     ]
    }
   ],
   "source": [
    "# creating an array of ones, zeros and empty array\n",
    "\n",
    "arr = np.ones(5) # this will create an array of 5 elements with all elements as 1\n",
    "print(arr)\n",
    "\n",
    "arr = np.zeros(5) # this will create an array of 5 elements with all elements as 0\n",
    "print(arr)\n",
    "\n",
    "arr = np.empty(5) # this will create an array of 5 elements with random values\n",
    "print(arr)"
   ]
  },
  {
   "cell_type": "code",
   "execution_count": 67,
   "metadata": {},
   "outputs": [
    {
     "name": "stdout",
     "output_type": "stream",
     "text": [
      "2D array of Zeros:\n",
      "[[0. 0. 0.]\n",
      " [0. 0. 0.]]\n",
      "\n",
      "3D array of Zeros:\n",
      "[[[0. 0. 0. 0.]\n",
      "  [0. 0. 0. 0.]\n",
      "  [0. 0. 0. 0.]]\n",
      "\n",
      " [[0. 0. 0. 0.]\n",
      "  [0. 0. 0. 0.]\n",
      "  [0. 0. 0. 0.]]]\n"
     ]
    }
   ],
   "source": [
    "zeros = np.zeros((2, 3)) # 2D array of zeros\n",
    "print(\"2D array of Zeros:\")\n",
    "print(zeros)\n",
    "\n",
    "print()\n",
    "zeros = np.zeros((2, 3, 4)) # 3D array of zeros\n",
    "print(\"3D array of Zeros:\")\n",
    "print(zeros)"
   ]
  },
  {
   "cell_type": "markdown",
   "metadata": {},
   "source": [
    "### <b>Linspace and Logspace</b>"
   ]
  },
  {
   "cell_type": "code",
   "execution_count": 68,
   "metadata": {},
   "outputs": [
    {
     "name": "stdout",
     "output_type": "stream",
     "text": [
      "Creating array using Linspace:\n",
      "[1. 2. 3. 4. 5.]\n",
      "Creating array using Logspace:\n",
      "[1.e+01 1.e+02 1.e+03 1.e+04 1.e+05]\n"
     ]
    }
   ],
   "source": [
    "# Linspace : this function is used to create an array of evenly spaced values over a specified range\n",
    "# syntax: np.linspace(start, stop, num=50, endpoint=True, retstep=False, dtype=None, axis=0)\n",
    "# start: the starting value of the sequence\n",
    "# stop: the end value of the sequence\n",
    "# num: the number of samples to generate, default is 50\n",
    "# endpoint: if true, stop is the last sample, otherwise, it is not included\n",
    "# retstep: if true, return (samples, step), where step is the spacing between samples\n",
    "# dtype: the type of the output array\n",
    "# axis: the axis in the result to store the samples\n",
    "\n",
    "# creating an array of evenly spaced values\n",
    "\n",
    "print(\"Creating array using Linspace:\")\n",
    "arr1 = np.linspace(1, 5, 5) # this will create an array of 1 to 5 with 5 equally spaced elements\n",
    "print(arr1)\n",
    "\n",
    "# Logspace: this function is used to create an array of evenly spaced values on a log scale\n",
    "# syntax: np.logspace(start, stop, num=50, endpoint=True, base=10.0, dtype=None, axis=0)\n",
    "# Base: the base of the log space, default is 10.0\n",
    "\n",
    "print(\"Creating array using Logspace:\")\n",
    "arr2 = np.logspace(1, 5, 5) # this will create an array of 1 to 5 with 5 equally spaced elements\n",
    "print(arr2)\n"
   ]
  },
  {
   "cell_type": "markdown",
   "metadata": {},
   "source": [
    "### <b>Arrays Indexing and Slicing</b>"
   ]
  },
  {
   "cell_type": "code",
   "execution_count": 69,
   "metadata": {},
   "outputs": [
    {
     "name": "stdout",
     "output_type": "stream",
     "text": [
      "[1 2 3 4 5 6 7 8 9]\n",
      "First element of the array: 1\n",
      "Second element of the array: 2\n",
      "Last element of the array: 9\n"
     ]
    }
   ],
   "source": [
    "# Indexing in 1D array\n",
    "# indexing in 1D array is similar to the indexing in python list, index start with zeor\n",
    "\n",
    "arr = np.arange(1, 10)\n",
    "print(arr)\n",
    "print(f'First element of the array: {arr[0]}')\n",
    "print(f'Second element of the array: {arr[1]}')\n",
    "print(f'Last element of the array: {arr[-1]}')"
   ]
  },
  {
   "cell_type": "code",
   "execution_count": 70,
   "metadata": {},
   "outputs": [
    {
     "name": "stdout",
     "output_type": "stream",
     "text": [
      "[1 2 3 4 5 6 7 8 9]\n",
      "[3 4 5 6]\n"
     ]
    }
   ],
   "source": [
    "# Slicing of array is also similar to python list\n",
    "a = arr[2:6] # index start with 0\n",
    "print(arr)\n",
    "print(a)"
   ]
  },
  {
   "cell_type": "code",
   "execution_count": 71,
   "metadata": {},
   "outputs": [
    {
     "name": "stdout",
     "output_type": "stream",
     "text": [
      "[[1 2 3]\n",
      " [4 5 6]\n",
      " [7 8 9]]\n",
      "Indexing in 2D array:\n",
      "Element at 0th row and 0th column: 1\n",
      "Element at 0th row and 1st column: 2\n",
      "Element at last row and last column: 9\n",
      "\n",
      "Slicing in 2D array:\n",
      "\n",
      "First row of the array:\n",
      "[1 2 3]\n",
      "First column of the array:\n",
      "[1 4 7]\n",
      "First two rows of the array:\n",
      "[[1 2 3]\n",
      " [4 5 6]]\n",
      "First two columns of the array:\n",
      "[[1 2]\n",
      " [4 5]\n",
      " [7 8]]\n",
      "Element at 0th row and 1st column:\n",
      "2\n"
     ]
    }
   ],
   "source": [
    "# Indexing in 2D array\n",
    "\n",
    "arr = np.array([[1, 2, 3], [4, 5, 6], [7, 8, 9]])\n",
    "print(arr)\n",
    "print(\"Indexing in 2D array:\")\n",
    "print(f'Element at 0th row and 0th column: {arr[0, 0]}')\n",
    "print(f'Element at 0th row and 1st column: {arr[0, 1]}')\n",
    "print(f'Element at last row and last column: {arr[-1, -1]}', end=\"\\n\\n\")\n",
    "\n",
    "print(\"Slicing in 2D array:\", end=\"\\n\\n\")\n",
    "\n",
    "print(f'First row of the array:')\n",
    "print(arr[0])\n",
    "print(f'First column of the array:')\n",
    "print(arr[:, 0])\n",
    "print(f'First two rows of the array:')\n",
    "print(arr[:2])\n",
    "print(f'First two columns of the array:')\n",
    "print(arr[:, :2])\n",
    "print(f'Element at 0th row and 1st column:')\n",
    "print(arr[0, 1])"
   ]
  },
  {
   "cell_type": "code",
   "execution_count": 72,
   "metadata": {},
   "outputs": [
    {
     "name": "stdout",
     "output_type": "stream",
     "text": [
      "[[[ 1  2  3]\n",
      "  [ 4  5  6]]\n",
      "\n",
      " [[ 7  8  9]\n",
      "  [10 11 12]]]\n",
      "\n",
      "Indexing in 3D array:\n",
      "\n",
      "Element at 0th row, 0th column and 0th depth:\n",
      "1\n",
      "Element at 1th row, 0th column and 1st depth:\n",
      "8\n"
     ]
    }
   ],
   "source": [
    "# Indexing in 3D array\n",
    "\n",
    "arr = np.array([[[1, 2, 3], [4, 5, 6]], [[7, 8, 9], [10, 11, 12]]])\n",
    "print(arr, end=\"\\n\\n\")\n",
    "print(\"Indexing in 3D array:\", end=\"\\n\\n\")\n",
    "print(f'Element at 0th row, 0th column and 0th depth:')\n",
    "print(arr[0, 0, 0])\n",
    "\n",
    "print(f'Element at 1th row, 0th column and 1st depth:')\n",
    "print(arr[1, 0, 1])"
   ]
  },
  {
   "cell_type": "markdown",
   "metadata": {},
   "source": [
    "### <b>Eye Function</b>"
   ]
  },
  {
   "cell_type": "code",
   "execution_count": 73,
   "metadata": {},
   "outputs": [
    {
     "name": "stdout",
     "output_type": "stream",
     "text": [
      "[[1. 0. 0.]\n",
      " [0. 1. 0.]\n",
      " [0. 0. 1.]]\n",
      "[[1. 0. 0. 0.]\n",
      " [0. 1. 0. 0.]\n",
      " [0. 0. 1. 0.]]\n",
      "[[1. 0. 0.]\n",
      " [0. 1. 0.]\n",
      " [0. 0. 1.]]\n",
      "[[1 0 0]\n",
      " [0 1 0]\n",
      " [0 0 1]]\n",
      "[[1 0 0]\n",
      " [0 1 0]\n",
      " [0 0 1]]\n"
     ]
    }
   ],
   "source": [
    "# Eye function: is used to create an identity matrix, i.e. a square matrix with ones on the main diagonal and zeros elsewhere\n",
    "\n",
    "arr = np.eye(3) # this will create a 3x3 identity matrix\n",
    "print(arr)\n",
    "\n",
    "arr = np.eye(3, 4) # this will create a 3x4 identity matrix\n",
    "print(arr)\n",
    "\n",
    "# Either you can use np.eye or np.identity to create an identity matrix\n",
    "arr = np.identity(3)\n",
    "print(arr)\n",
    "\n",
    "arr = np.identity(3, dtype=int)\n",
    "print(arr)\n",
    "arr = np.eye(3, dtype=int)\n",
    "print(arr)\n",
    "      "
   ]
  },
  {
   "cell_type": "markdown",
   "metadata": {},
   "source": [
    "### <b>Creating Arrays with Random</b>"
   ]
  },
  {
   "cell_type": "code",
   "execution_count": 74,
   "metadata": {},
   "outputs": [
    {
     "name": "stdout",
     "output_type": "stream",
     "text": [
      "[0.58332174 0.02517173 0.70920801 0.26556613 0.26360285]\n",
      "\n",
      "[[[0.15037787 0.68381843 0.81660184]\n",
      "  [0.33607158 0.89081653 0.19812181]\n",
      "  [0.03061665 0.87761494 0.72743551]]\n",
      "\n",
      " [[0.54088093 0.13145815 0.41366737]\n",
      "  [0.77872881 0.58390137 0.18263144]\n",
      "  [0.82608225 0.10540183 0.28357668]]]\n"
     ]
    }
   ],
   "source": [
    "# Random function: is used to generate random numbers\n",
    "# syntax: np.random.rand(d0, d1, ..., dn)\n",
    "\n",
    "# rand function: this function is used to generate random numbers between 0 and 1\n",
    "\n",
    "arr = np.random.rand(5) # this will create an array of 5 random numbers between 0 and 1\n",
    "print(arr, end=\"\\n\\n\")\n",
    "\n",
    "arr = np.random.rand(2, 3, 3) # this will create a 2x3 matrix of random numbers between 0 and 1\n",
    "print(arr)"
   ]
  },
  {
   "cell_type": "code",
   "execution_count": 75,
   "metadata": {},
   "outputs": [
    {
     "name": "stdout",
     "output_type": "stream",
     "text": [
      "[3 7 8 9 9]\n",
      "\n",
      "[[3 1 7]\n",
      " [8 9 2]]\n",
      "\n",
      "[[[47  8 76 29 34]\n",
      "  [85 97 89 45  6]\n",
      "  [ 5 72 89 89 51]\n",
      "  [55 35 16 78 89]]\n",
      "\n",
      " [[16  7 86 23 12]\n",
      "  [13 93 97 63 58]\n",
      "  [80 43 58 98 51]\n",
      "  [46 41 90 74 38]]\n",
      "\n",
      " [[ 1 19 24  4 30]\n",
      "  [17 85 83 15 52]\n",
      "  [80 18 51 54 26]\n",
      "  [49 18 33 82 81]]]\n",
      "\n"
     ]
    }
   ],
   "source": [
    "# randint function: this function is used to generate random integers\n",
    "# syntax: np.random.randint(low, high=None, size=None, dtype=int)\n",
    "\n",
    "arr = np.random.randint(1, 10, 5) # this will create an array of 5 random integers between 1 and 10\n",
    "print(arr, end=\"\\n\\n\")\n",
    "\n",
    "arr = np.random.randint(1, 10, (2, 3)) # this will create a 2x3 matrix of random integers between 1 and 10\n",
    "print(arr, end=\"\\n\\n\")\n",
    "\n",
    "arr = np.random.randint(1, 100, (3, 4, 5)) # this will create a 3x4x5 matrix of random integers between 1 and 100\n",
    "print(arr, end=\"\\n\\n\")"
   ]
  },
  {
   "cell_type": "code",
   "execution_count": 76,
   "metadata": {},
   "outputs": [
    {
     "name": "stdout",
     "output_type": "stream",
     "text": [
      "[ 0.46956276  0.32692165  1.80854321 -1.413068    2.52330509]\n",
      "\n",
      "[[[ 0.3473178  -0.88735951 -1.05961725  0.34795146 -1.55866445]\n",
      "  [-0.99504103  2.62115252 -0.34088642 -0.16209416  0.43295951]\n",
      "  [-0.00449346 -1.86472139 -0.60772586  2.61912518  0.66359295]\n",
      "  [ 1.49161383 -0.18764498  0.63650258  1.61750813 -0.10197468]]\n",
      "\n",
      " [[-0.31608082 -1.7764482   0.56051783  2.05015817  0.14577399]\n",
      "  [-0.74949021 -0.31014077 -1.2396806  -0.59347881 -0.43817284]\n",
      "  [ 0.28143276 -0.20621966  1.66945183 -1.07688513  0.3002728 ]\n",
      "  [ 0.50302378 -1.09557915 -1.52114107  0.23610191  0.69714806]]\n",
      "\n",
      " [[-0.19580128  0.11989141  0.76399539 -0.33265382  0.02295053]\n",
      "  [ 0.0554339   0.36275798  0.29685105  1.40695393  0.22088226]\n",
      "  [ 0.98991437 -0.77140026  0.45838448  1.76362535 -0.65081256]\n",
      "  [-0.14268551 -0.93410474  0.02656647 -1.27071252  0.29620639]]]\n",
      "\n"
     ]
    }
   ],
   "source": [
    "# Randn function: this function is used to generate random numbers from a normal distribution\n",
    "# syntax: np.random.randn(d0, d1, ..., dn)\n",
    "\n",
    "arr = np.random.randn(5) # this will create an array of 5 random numbers from a normal distribution\n",
    "print(arr, end=\"\\n\\n\")\n",
    "\n",
    "arr = np.random.randn(3, 4, 5) # this will create a 3x4x5 matrix of random numbers from a normal distribution\n",
    "print(arr, end=\"\\n\\n\")\n",
    "\n",
    "# arr = np.random.randn(2, 3, 4, 5) # this will create a 2x3x4x5 matrix of random numbers from a normal distribution\n",
    "# print(arr)"
   ]
  },
  {
   "cell_type": "markdown",
   "metadata": {},
   "source": [
    "Is data generated by randn actually normally distributed or not"
   ]
  },
  {
   "cell_type": "code",
   "execution_count": 77,
   "metadata": {},
   "outputs": [
    {
     "data": {
      "text/plain": [
       "(array([1.0000e+00, 0.0000e+00, 0.0000e+00, 0.0000e+00, 0.0000e+00,\n",
       "        1.0000e+00, 0.0000e+00, 0.0000e+00, 0.0000e+00, 0.0000e+00,\n",
       "        0.0000e+00, 0.0000e+00, 0.0000e+00, 0.0000e+00, 1.0000e+00,\n",
       "        0.0000e+00, 0.0000e+00, 0.0000e+00, 0.0000e+00, 0.0000e+00,\n",
       "        0.0000e+00, 0.0000e+00, 0.0000e+00, 0.0000e+00, 1.0000e+00,\n",
       "        0.0000e+00, 0.0000e+00, 0.0000e+00, 0.0000e+00, 0.0000e+00,\n",
       "        0.0000e+00, 0.0000e+00, 0.0000e+00, 0.0000e+00, 0.0000e+00,\n",
       "        1.0000e+00, 0.0000e+00, 0.0000e+00, 0.0000e+00, 1.0000e+00,\n",
       "        0.0000e+00, 0.0000e+00, 0.0000e+00, 0.0000e+00, 0.0000e+00,\n",
       "        0.0000e+00, 0.0000e+00, 0.0000e+00, 0.0000e+00, 1.0000e+00,\n",
       "        0.0000e+00, 1.0000e+00, 1.0000e+00, 0.0000e+00, 0.0000e+00,\n",
       "        0.0000e+00, 1.0000e+00, 1.0000e+00, 1.0000e+00, 1.0000e+00,\n",
       "        2.0000e+00, 0.0000e+00, 1.0000e+00, 0.0000e+00, 1.0000e+00,\n",
       "        0.0000e+00, 1.0000e+00, 0.0000e+00, 1.0000e+00, 0.0000e+00,\n",
       "        0.0000e+00, 1.0000e+00, 0.0000e+00, 1.0000e+00, 0.0000e+00,\n",
       "        0.0000e+00, 1.0000e+00, 2.0000e+00, 1.0000e+00, 0.0000e+00,\n",
       "        0.0000e+00, 2.0000e+00, 3.0000e+00, 1.0000e+00, 2.0000e+00,\n",
       "        0.0000e+00, 4.0000e+00, 2.0000e+00, 3.0000e+00, 3.0000e+00,\n",
       "        1.0000e+00, 0.0000e+00, 1.0000e+00, 1.0000e+00, 1.0000e+00,\n",
       "        2.0000e+00, 2.0000e+00, 1.0000e+00, 2.0000e+00, 0.0000e+00,\n",
       "        0.0000e+00, 3.0000e+00, 6.0000e+00, 4.0000e+00, 3.0000e+00,\n",
       "        3.0000e+00, 1.0000e+00, 6.0000e+00, 3.0000e+00, 4.0000e+00,\n",
       "        2.0000e+00, 8.0000e+00, 9.0000e+00, 4.0000e+00, 8.0000e+00,\n",
       "        7.0000e+00, 5.0000e+00, 3.0000e+00, 9.0000e+00, 6.0000e+00,\n",
       "        9.0000e+00, 4.0000e+00, 3.0000e+00, 1.0000e+01, 7.0000e+00,\n",
       "        9.0000e+00, 9.0000e+00, 4.0000e+00, 1.1000e+01, 1.1000e+01,\n",
       "        1.4000e+01, 1.4000e+01, 8.0000e+00, 8.0000e+00, 1.6000e+01,\n",
       "        1.7000e+01, 1.2000e+01, 1.3000e+01, 1.6000e+01, 1.2000e+01,\n",
       "        1.6000e+01, 1.0000e+01, 2.0000e+01, 2.0000e+01, 1.8000e+01,\n",
       "        2.2000e+01, 3.1000e+01, 2.7000e+01, 2.0000e+01, 2.8000e+01,\n",
       "        2.6000e+01, 2.7000e+01, 3.7000e+01, 2.5000e+01, 3.3000e+01,\n",
       "        2.9000e+01, 3.6000e+01, 4.2000e+01, 3.4000e+01, 4.4000e+01,\n",
       "        2.9000e+01, 3.9000e+01, 4.2000e+01, 6.0000e+01, 5.1000e+01,\n",
       "        4.5000e+01, 4.5000e+01, 5.6000e+01, 4.5000e+01, 6.8000e+01,\n",
       "        5.1000e+01, 6.8000e+01, 5.7000e+01, 7.1000e+01, 7.0000e+01,\n",
       "        6.5000e+01, 6.6000e+01, 6.1000e+01, 8.8000e+01, 8.2000e+01,\n",
       "        7.4000e+01, 8.3000e+01, 8.0000e+01, 9.4000e+01, 1.0700e+02,\n",
       "        9.1000e+01, 8.7000e+01, 1.0700e+02, 1.1300e+02, 1.0400e+02,\n",
       "        1.1100e+02, 1.4900e+02, 1.1400e+02, 1.3700e+02, 1.3500e+02,\n",
       "        1.6400e+02, 1.4600e+02, 1.5600e+02, 1.6400e+02, 1.5300e+02,\n",
       "        1.8400e+02, 1.7700e+02, 1.8500e+02, 1.8000e+02, 1.9100e+02,\n",
       "        1.7200e+02, 2.0800e+02, 2.0700e+02, 1.9300e+02, 2.3000e+02,\n",
       "        2.5300e+02, 2.3300e+02, 2.7000e+02, 2.6900e+02, 2.6800e+02,\n",
       "        2.9800e+02, 3.3500e+02, 2.9600e+02, 3.1800e+02, 2.9000e+02,\n",
       "        3.4100e+02, 3.3900e+02, 3.2100e+02, 3.7500e+02, 3.8400e+02,\n",
       "        3.6900e+02, 4.2900e+02, 4.2900e+02, 4.1000e+02, 4.2800e+02,\n",
       "        4.8300e+02, 4.6600e+02, 4.8500e+02, 5.4900e+02, 5.0600e+02,\n",
       "        5.4100e+02, 5.4300e+02, 5.4600e+02, 6.0900e+02, 6.4000e+02,\n",
       "        6.1300e+02, 6.4500e+02, 6.5400e+02, 7.0700e+02, 7.1400e+02,\n",
       "        6.9900e+02, 7.4600e+02, 7.2300e+02, 8.3700e+02, 8.0700e+02,\n",
       "        8.3900e+02, 8.3600e+02, 8.8100e+02, 8.7000e+02, 9.0500e+02,\n",
       "        9.3700e+02, 9.6000e+02, 1.0180e+03, 1.0180e+03, 1.0630e+03,\n",
       "        1.0770e+03, 1.1380e+03, 1.1310e+03, 1.1920e+03, 1.2800e+03,\n",
       "        1.3210e+03, 1.2820e+03, 1.2990e+03, 1.3080e+03, 1.3890e+03,\n",
       "        1.5130e+03, 1.5420e+03, 1.5690e+03, 1.5480e+03, 1.6460e+03,\n",
       "        1.6850e+03, 1.6710e+03, 1.7450e+03, 1.8060e+03, 1.8130e+03,\n",
       "        1.8840e+03, 1.9320e+03, 2.0410e+03, 1.9590e+03, 2.1600e+03,\n",
       "        2.1610e+03, 2.2780e+03, 2.2760e+03, 2.3450e+03, 2.4290e+03,\n",
       "        2.3830e+03, 2.4120e+03, 2.5720e+03, 2.6010e+03, 2.7430e+03,\n",
       "        2.7310e+03, 2.8610e+03, 2.8950e+03, 2.9470e+03, 3.0450e+03,\n",
       "        3.0800e+03, 3.1730e+03, 3.2670e+03, 3.2540e+03, 3.3900e+03,\n",
       "        3.4130e+03, 3.6420e+03, 3.6600e+03, 3.8370e+03, 3.9530e+03,\n",
       "        3.9060e+03, 3.9260e+03, 4.1280e+03, 4.2410e+03, 4.2430e+03,\n",
       "        4.1420e+03, 4.4160e+03, 4.5830e+03, 4.6080e+03, 4.8100e+03,\n",
       "        4.9540e+03, 5.0470e+03, 5.0120e+03, 5.2570e+03, 5.4410e+03,\n",
       "        5.4570e+03, 5.5160e+03, 5.6560e+03, 5.7350e+03, 5.9590e+03,\n",
       "        5.9160e+03, 6.0760e+03, 6.1940e+03, 6.3680e+03, 6.4710e+03,\n",
       "        6.6720e+03, 6.9230e+03, 6.7620e+03, 7.1520e+03, 7.2520e+03,\n",
       "        7.4930e+03, 7.3160e+03, 7.5700e+03, 7.7650e+03, 8.0800e+03,\n",
       "        7.9900e+03, 8.2350e+03, 8.4190e+03, 8.5770e+03, 8.6980e+03,\n",
       "        8.7040e+03, 8.9490e+03, 9.1030e+03, 9.4250e+03, 9.5190e+03,\n",
       "        9.6770e+03, 9.8610e+03, 1.0096e+04, 1.0155e+04, 1.0521e+04,\n",
       "        1.0613e+04, 1.0749e+04, 1.0926e+04, 1.1185e+04, 1.1362e+04,\n",
       "        1.1409e+04, 1.1681e+04, 1.1926e+04, 1.2014e+04, 1.2464e+04,\n",
       "        1.2517e+04, 1.2507e+04, 1.2767e+04, 1.2972e+04, 1.3213e+04,\n",
       "        1.3547e+04, 1.3601e+04, 1.3794e+04, 1.4312e+04, 1.4103e+04,\n",
       "        1.4440e+04, 1.4799e+04, 1.5071e+04, 1.5190e+04, 1.5499e+04,\n",
       "        1.5773e+04, 1.5924e+04, 1.5971e+04, 1.6328e+04, 1.6389e+04,\n",
       "        1.6829e+04, 1.7251e+04, 1.7452e+04, 1.7537e+04, 1.7988e+04,\n",
       "        1.8074e+04, 1.8259e+04, 1.8634e+04, 1.8700e+04, 1.9185e+04,\n",
       "        1.9331e+04, 1.9580e+04, 1.9976e+04, 2.0118e+04, 2.0002e+04,\n",
       "        2.0771e+04, 2.0738e+04, 2.0957e+04, 2.1223e+04, 2.1419e+04,\n",
       "        2.1728e+04, 2.1881e+04, 2.2415e+04, 2.2570e+04, 2.2974e+04,\n",
       "        2.3119e+04, 2.3422e+04, 2.3716e+04, 2.4076e+04, 2.4336e+04,\n",
       "        2.4182e+04, 2.4548e+04, 2.5082e+04, 2.5328e+04, 2.5456e+04,\n",
       "        2.5866e+04, 2.5923e+04, 2.6345e+04, 2.6723e+04, 2.6500e+04,\n",
       "        2.7044e+04, 2.7335e+04, 2.7642e+04, 2.7868e+04, 2.8227e+04,\n",
       "        2.8314e+04, 2.8760e+04, 2.8985e+04, 2.9079e+04, 2.9612e+04,\n",
       "        2.9562e+04, 3.0004e+04, 3.0174e+04, 3.0288e+04, 3.0536e+04,\n",
       "        3.0768e+04, 3.1045e+04, 3.1347e+04, 3.1206e+04, 3.1671e+04,\n",
       "        3.2177e+04, 3.2511e+04, 3.2395e+04, 3.2892e+04, 3.3172e+04,\n",
       "        3.2981e+04, 3.3239e+04, 3.3506e+04, 3.3791e+04, 3.4205e+04,\n",
       "        3.4439e+04, 3.4676e+04, 3.5041e+04, 3.5063e+04, 3.5193e+04,\n",
       "        3.5898e+04, 3.5315e+04, 3.5975e+04, 3.5702e+04, 3.6256e+04,\n",
       "        3.6338e+04, 3.6123e+04, 3.6872e+04, 3.7113e+04, 3.6956e+04,\n",
       "        3.7344e+04, 3.7586e+04, 3.7833e+04, 3.7910e+04, 3.7867e+04,\n",
       "        3.8413e+04, 3.8197e+04, 3.8598e+04, 3.8971e+04, 3.8989e+04,\n",
       "        3.8997e+04, 3.9225e+04, 3.9350e+04, 3.9128e+04, 3.9213e+04,\n",
       "        3.9999e+04, 3.9951e+04, 3.9789e+04, 4.0114e+04, 4.0532e+04,\n",
       "        4.0315e+04, 4.0401e+04, 4.0398e+04, 4.0076e+04, 4.0801e+04,\n",
       "        4.0788e+04, 4.1087e+04, 4.0796e+04, 4.0760e+04, 4.0794e+04,\n",
       "        4.0800e+04, 4.1319e+04, 4.1322e+04, 4.1082e+04, 4.1156e+04,\n",
       "        4.1298e+04, 4.1615e+04, 4.1392e+04, 4.1569e+04, 4.1167e+04,\n",
       "        4.1306e+04, 4.1187e+04, 4.1290e+04, 4.1576e+04, 4.1127e+04,\n",
       "        4.1791e+04, 4.1401e+04, 4.1385e+04, 4.1722e+04, 4.1173e+04,\n",
       "        4.1209e+04, 4.1343e+04, 4.1497e+04, 4.1220e+04, 4.1429e+04,\n",
       "        4.1101e+04, 4.0935e+04, 4.0462e+04, 4.1446e+04, 4.0815e+04,\n",
       "        4.1231e+04, 4.1030e+04, 4.0733e+04, 4.0652e+04, 4.0540e+04,\n",
       "        4.0300e+04, 4.0559e+04, 4.0422e+04, 4.0117e+04, 4.0155e+04,\n",
       "        3.9948e+04, 4.0041e+04, 3.9819e+04, 3.9725e+04, 3.9480e+04,\n",
       "        3.9469e+04, 3.9151e+04, 3.9311e+04, 3.8759e+04, 3.8749e+04,\n",
       "        3.8662e+04, 3.8642e+04, 3.7929e+04, 3.7894e+04, 3.8286e+04,\n",
       "        3.7703e+04, 3.7753e+04, 3.7547e+04, 3.7776e+04, 3.7695e+04,\n",
       "        3.6729e+04, 3.6677e+04, 3.6576e+04, 3.6395e+04, 3.6139e+04,\n",
       "        3.6556e+04, 3.5716e+04, 3.5645e+04, 3.5415e+04, 3.5318e+04,\n",
       "        3.4841e+04, 3.4729e+04, 3.4352e+04, 3.4484e+04, 3.3905e+04,\n",
       "        3.3853e+04, 3.3664e+04, 3.3450e+04, 3.2993e+04, 3.3089e+04,\n",
       "        3.2548e+04, 3.2680e+04, 3.2478e+04, 3.2266e+04, 3.1649e+04,\n",
       "        3.1570e+04, 3.1569e+04, 3.1046e+04, 3.0764e+04, 3.0568e+04,\n",
       "        3.0676e+04, 3.0650e+04, 2.9895e+04, 2.9263e+04, 2.9569e+04,\n",
       "        2.9230e+04, 2.8916e+04, 2.8585e+04, 2.8364e+04, 2.8229e+04,\n",
       "        2.7970e+04, 2.7450e+04, 2.7292e+04, 2.7052e+04, 2.6616e+04,\n",
       "        2.6628e+04, 2.6203e+04, 2.6034e+04, 2.5610e+04, 2.5015e+04,\n",
       "        2.4974e+04, 2.4938e+04, 2.4476e+04, 2.4670e+04, 2.4152e+04,\n",
       "        2.3805e+04, 2.3723e+04, 2.3311e+04, 2.3167e+04, 2.2462e+04,\n",
       "        2.2898e+04, 2.2446e+04, 2.1898e+04, 2.1875e+04, 2.1735e+04,\n",
       "        2.1121e+04, 2.1031e+04, 2.0915e+04, 2.0629e+04, 2.0047e+04,\n",
       "        2.0197e+04, 2.0019e+04, 1.9491e+04, 1.9158e+04, 1.9062e+04,\n",
       "        1.8856e+04, 1.8653e+04, 1.8555e+04, 1.8327e+04, 1.7997e+04,\n",
       "        1.7642e+04, 1.7079e+04, 1.7057e+04, 1.6919e+04, 1.6521e+04,\n",
       "        1.6408e+04, 1.6137e+04, 1.5982e+04, 1.5770e+04, 1.5215e+04,\n",
       "        1.5402e+04, 1.5193e+04, 1.4702e+04, 1.4542e+04, 1.4216e+04,\n",
       "        1.4189e+04, 1.3853e+04, 1.3671e+04, 1.3614e+04, 1.3323e+04,\n",
       "        1.3092e+04, 1.2804e+04, 1.2571e+04, 1.2571e+04, 1.2309e+04,\n",
       "        1.2173e+04, 1.2044e+04, 1.1708e+04, 1.1668e+04, 1.1317e+04,\n",
       "        1.1197e+04, 1.0744e+04, 1.0715e+04, 1.0756e+04, 1.0377e+04,\n",
       "        1.0337e+04, 1.0131e+04, 9.9030e+03, 9.5150e+03, 9.4350e+03,\n",
       "        9.4700e+03, 9.0790e+03, 8.9280e+03, 8.7740e+03, 8.8760e+03,\n",
       "        8.5830e+03, 8.4040e+03, 8.2610e+03, 7.9730e+03, 7.8680e+03,\n",
       "        7.7020e+03, 7.5110e+03, 7.4500e+03, 7.3920e+03, 7.1830e+03,\n",
       "        7.1560e+03, 6.7710e+03, 6.7150e+03, 6.6150e+03, 6.4870e+03,\n",
       "        6.4120e+03, 6.2140e+03, 6.2070e+03, 5.9930e+03, 5.8000e+03,\n",
       "        5.8110e+03, 5.5740e+03, 5.6110e+03, 5.4530e+03, 5.3590e+03,\n",
       "        5.2050e+03, 5.1900e+03, 4.9470e+03, 4.7550e+03, 4.8870e+03,\n",
       "        4.7010e+03, 4.5640e+03, 4.4630e+03, 4.4830e+03, 4.3600e+03,\n",
       "        4.1730e+03, 4.0430e+03, 3.9990e+03, 3.9650e+03, 3.9750e+03,\n",
       "        3.7240e+03, 3.6750e+03, 3.5540e+03, 3.4400e+03, 3.4460e+03,\n",
       "        3.4170e+03, 3.2880e+03, 3.1140e+03, 2.9930e+03, 3.0470e+03,\n",
       "        3.0120e+03, 2.8790e+03, 2.8380e+03, 2.7420e+03, 2.8150e+03,\n",
       "        2.6480e+03, 2.4920e+03, 2.5320e+03, 2.4560e+03, 2.3280e+03,\n",
       "        2.3640e+03, 2.2210e+03, 2.2010e+03, 2.1860e+03, 2.0550e+03,\n",
       "        2.0380e+03, 2.0100e+03, 1.9100e+03, 2.0010e+03, 1.8310e+03,\n",
       "        1.7560e+03, 1.6680e+03, 1.7340e+03, 1.6470e+03, 1.6380e+03,\n",
       "        1.5840e+03, 1.5780e+03, 1.4970e+03, 1.4590e+03, 1.3860e+03,\n",
       "        1.3730e+03, 1.3780e+03, 1.2930e+03, 1.2790e+03, 1.2510e+03,\n",
       "        1.1940e+03, 1.1920e+03, 1.1600e+03, 1.1180e+03, 1.0460e+03,\n",
       "        1.0260e+03, 9.7600e+02, 1.0100e+03, 9.7300e+02, 8.9200e+02,\n",
       "        9.1100e+02, 8.5100e+02, 8.5500e+02, 8.4400e+02, 8.0600e+02,\n",
       "        7.9400e+02, 7.9100e+02, 7.5300e+02, 7.3200e+02, 6.8700e+02,\n",
       "        6.7400e+02, 6.6400e+02, 6.5500e+02, 6.0500e+02, 5.4400e+02,\n",
       "        5.9000e+02, 5.6400e+02, 5.1600e+02, 5.4500e+02, 5.0400e+02,\n",
       "        4.9000e+02, 4.8300e+02, 4.4200e+02, 4.6400e+02, 3.9400e+02,\n",
       "        4.3700e+02, 3.8000e+02, 4.3700e+02, 4.0300e+02, 3.9500e+02,\n",
       "        3.7400e+02, 3.7100e+02, 3.6800e+02, 3.3100e+02, 3.2400e+02,\n",
       "        3.1000e+02, 3.2300e+02, 2.9400e+02, 2.8800e+02, 2.7600e+02,\n",
       "        2.4000e+02, 2.6900e+02, 2.3100e+02, 2.4000e+02, 2.3900e+02,\n",
       "        2.2800e+02, 1.9700e+02, 2.1500e+02, 2.2800e+02, 1.7900e+02,\n",
       "        1.9800e+02, 1.6700e+02, 1.8900e+02, 1.6000e+02, 1.7000e+02,\n",
       "        1.6200e+02, 1.6200e+02, 1.3900e+02, 1.2900e+02, 1.3500e+02,\n",
       "        1.3000e+02, 1.0700e+02, 1.3400e+02, 1.1100e+02, 1.2500e+02,\n",
       "        1.1000e+02, 1.1300e+02, 9.5000e+01, 1.0000e+02, 1.1900e+02,\n",
       "        7.9000e+01, 9.3000e+01, 7.7000e+01, 7.3000e+01, 9.9000e+01,\n",
       "        8.2000e+01, 7.4000e+01, 7.2000e+01, 6.8000e+01, 6.1000e+01,\n",
       "        4.7000e+01, 6.1000e+01, 6.0000e+01, 6.8000e+01, 5.6000e+01,\n",
       "        5.8000e+01, 4.5000e+01, 5.2000e+01, 4.8000e+01, 4.3000e+01,\n",
       "        4.4000e+01, 4.8000e+01, 3.9000e+01, 3.9000e+01, 4.7000e+01,\n",
       "        3.2000e+01, 3.1000e+01, 2.8000e+01, 3.4000e+01, 3.0000e+01,\n",
       "        2.8000e+01, 3.1000e+01, 2.9000e+01, 3.1000e+01, 3.1000e+01,\n",
       "        2.0000e+01, 2.7000e+01, 2.9000e+01, 1.1000e+01, 2.2000e+01,\n",
       "        1.8000e+01, 1.7000e+01, 2.2000e+01, 2.5000e+01, 1.9000e+01,\n",
       "        1.2000e+01, 1.3000e+01, 8.0000e+00, 1.7000e+01, 1.7000e+01,\n",
       "        2.0000e+01, 7.0000e+00, 1.3000e+01, 1.3000e+01, 8.0000e+00,\n",
       "        1.5000e+01, 9.0000e+00, 7.0000e+00, 6.0000e+00, 6.0000e+00,\n",
       "        9.0000e+00, 1.3000e+01, 1.2000e+01, 6.0000e+00, 6.0000e+00,\n",
       "        8.0000e+00, 8.0000e+00, 3.0000e+00, 3.0000e+00, 8.0000e+00,\n",
       "        5.0000e+00, 3.0000e+00, 2.0000e+00, 4.0000e+00, 4.0000e+00,\n",
       "        2.0000e+00, 6.0000e+00, 4.0000e+00, 3.0000e+00, 7.0000e+00,\n",
       "        4.0000e+00, 0.0000e+00, 4.0000e+00, 4.0000e+00, 1.0000e+00,\n",
       "        4.0000e+00, 5.0000e+00, 2.0000e+00, 2.0000e+00, 5.0000e+00,\n",
       "        1.0000e+00, 2.0000e+00, 3.0000e+00, 0.0000e+00, 2.0000e+00,\n",
       "        2.0000e+00, 1.0000e+00, 0.0000e+00, 1.0000e+00, 0.0000e+00,\n",
       "        4.0000e+00, 3.0000e+00, 1.0000e+00, 2.0000e+00, 0.0000e+00,\n",
       "        0.0000e+00, 0.0000e+00, 0.0000e+00, 2.0000e+00, 0.0000e+00,\n",
       "        0.0000e+00, 0.0000e+00, 1.0000e+00, 0.0000e+00, 0.0000e+00,\n",
       "        0.0000e+00, 0.0000e+00, 1.0000e+00, 0.0000e+00, 1.0000e+00,\n",
       "        0.0000e+00, 1.0000e+00, 2.0000e+00, 0.0000e+00, 1.0000e+00,\n",
       "        0.0000e+00, 0.0000e+00, 0.0000e+00, 1.0000e+00, 1.0000e+00,\n",
       "        1.0000e+00, 0.0000e+00, 0.0000e+00, 0.0000e+00, 0.0000e+00,\n",
       "        0.0000e+00, 0.0000e+00, 0.0000e+00, 0.0000e+00, 0.0000e+00,\n",
       "        1.0000e+00, 0.0000e+00, 0.0000e+00, 0.0000e+00, 2.0000e+00]),\n",
       " array([-5.40066948, -5.39027381, -5.37987814, ...,  4.97420671,\n",
       "         4.98460237,  4.99499804]),\n",
       " <BarContainer object of 1000 artists>)"
      ]
     },
     "execution_count": 77,
     "metadata": {},
     "output_type": "execute_result"
    },
    {
     "data": {
      "image/png": "[encoded data removed]",
      "text/plain": [
       "<Figure size 640x480 with 1 Axes>"
      ]
     },
     "metadata": {},
     "output_type": "display_data"
    }
   ],
   "source": [
    "import matplotlib.pyplot as plt\n",
    "# creating an array of random numbers\n",
    "arr = np.random.randn(9999999)\n",
    "# Plotting the histogram of the array\n",
    "\n",
    "plt.hist(arr, bins=1000)"
   ]
  },
  {
   "cell_type": "markdown",
   "metadata": {},
   "source": [
    "---"
   ]
  },
  {
   "cell_type": "markdown",
   "metadata": {},
   "source": [
    "### <b>Copy Function</b>"
   ]
  },
  {
   "cell_type": "code",
   "execution_count": 78,
   "metadata": {},
   "outputs": [
    {
     "name": "stdout",
     "output_type": "stream",
     "text": [
      "[1 2 3 4 5]\n",
      "[3 4]\n",
      "[10  4]\n",
      "[ 1  2 10  4  5]\n"
     ]
    }
   ],
   "source": [
    "# Slicing in array returns the view of the array, not the copy of the array\n",
    "# if you modify the sliced array, the original array will also be modified\n",
    "\n",
    "arr = np.array([1, 2, 3, 4, 5])\n",
    "print(arr)\n",
    "a = arr[2:4]\n",
    "print(a)\n",
    "\n",
    "a[0] = 10\n",
    "print(a)\n",
    "print(arr)"
   ]
  },
  {
   "cell_type": "code",
   "execution_count": 79,
   "metadata": {},
   "outputs": [
    {
     "name": "stdout",
     "output_type": "stream",
     "text": [
      "[1 2 3 4 5]\n",
      "[3 4]\n",
      "[10  4]\n",
      "[1 2 3 4 5]\n"
     ]
    }
   ],
   "source": [
    "# So to avoid this, you can use copy method to create a copy of the array\n",
    "arr = np.array([1, 2, 3, 4, 5])\n",
    "print(arr)\n",
    "\n",
    "a = arr[2:4].copy()\n",
    "print(a)\n",
    "\n",
    "a[0] = 10\n",
    "print(a)\n",
    "print(arr) # the original will remain same\n",
    "# Same with 2D array and ND array"
   ]
  },
  {
   "cell_type": "markdown",
   "metadata": {},
   "source": [
    "### <b>Flatten Function:</b>\n",
    "\n",
    "Flatten function return a copy of the array collapsed into one dimension"
   ]
  },
  {
   "cell_type": "code",
   "execution_count": 80,
   "metadata": {},
   "outputs": [
    {
     "name": "stdout",
     "output_type": "stream",
     "text": [
      "[1 2 3 4 5 6 7 8 9]\n",
      "[ 1  2  3  4  5  6  7  8  9 10 11 12]\n"
     ]
    }
   ],
   "source": [
    "arr = np.array([[1, 2, 3], [4, 5, 6], [7, 8, 9]])\n",
    "a = arr.flatten() # this will convert the 2D array into 1D array\n",
    "print(a)\n",
    "\n",
    "arr3 = np.array([[[1, 2, 3], [4, 5, 6]], [[7, 8, 9], [10, 11, 12]]])\n",
    "a = arr3.flatten()\n",
    "print(a)"
   ]
  },
  {
   "cell_type": "markdown",
   "metadata": {},
   "source": [
    "---"
   ]
  },
  {
   "cell_type": "markdown",
   "metadata": {},
   "source": [
    "# <font color = \"#6585e7\"><b>Arithmetics on Numpy Arrays</b></font>"
   ]
  },
  {
   "cell_type": "markdown",
   "metadata": {},
   "source": [
    "### <b>Finding Min, Max Elements and Sum of array:</b>"
   ]
  },
  {
   "cell_type": "code",
   "execution_count": 81,
   "metadata": {},
   "outputs": [
    {
     "name": "stdout",
     "output_type": "stream",
     "text": [
      "[[26 77 49 11]\n",
      " [21 21 62 94]\n",
      " [74 83 51 56]]\n",
      "Minimum value of the array: 11\n",
      "Minimum value of the array: [21 21 49 11]\n",
      "Minimum value of the array: [11 21 51]\n"
     ]
    }
   ],
   "source": [
    "# min function : this will return the minimum value of the array, you can also specify the axis.\n",
    "\n",
    "arr = np.random.randint(1, 100, (3, 4))\n",
    "print(arr)\n",
    "\n",
    "print(f'Minimum value of the array: {arr.min()}')\n",
    "# print(f'Minimum value of the array: {np.min(arr)}')\n",
    "\n",
    "print(f'Minimum value of the array: {arr.min(axis=0)}') # this will return the minimum value of each column\n",
    "# print(f'Minimum value of the array: {np.min(arr, axis=1)}')\n",
    "\n",
    "print(f'Minimum value of the array: {arr.min(axis=1)}') # this will return the minimum value of each row"
   ]
  },
  {
   "cell_type": "code",
   "execution_count": 82,
   "metadata": {},
   "outputs": [
    {
     "name": "stdout",
     "output_type": "stream",
     "text": [
      "Maximum value of the array: 94\n",
      "Maximum value of the array: [74 83 62 94]\n",
      "Maximum value of the array: [77 94 83]\n"
     ]
    }
   ],
   "source": [
    "print(f'Maximum value of the array: {arr.max()}')\n",
    "\n",
    "print(f'Maximum value of the array: {arr.max(axis=0)}') # this will return the maximum value of each column\n",
    "\n",
    "print(f'Maximum value of the array: {arr.max(axis=1)}') # this will return the maximum value of each row"
   ]
  },
  {
   "cell_type": "code",
   "execution_count": 83,
   "metadata": {},
   "outputs": [
    {
     "name": "stdout",
     "output_type": "stream",
     "text": [
      "[[57 78 43 64]\n",
      " [52 48 27 43]\n",
      " [23 81 50 65]]\n",
      "------------------------------------------------------------\n",
      "Index of the minimum value of the array: 8\n",
      "Index of the minimum value of the array: [2 1 1 1]\n",
      "Index of the minimum value of the array: [2 2 0]\n",
      "------------------------------------------------------------\n",
      "Index of the maximum value of the array: 9\n",
      "Index of the maximum value of the array: [0 2 2 2]\n",
      "Index of the maximum value of the array: [1 0 1]\n"
     ]
    }
   ],
   "source": [
    "# Finding the index of the minimum and maximum value of the array\n",
    "\n",
    "arr = np.random.randint(1, 100, (3, 4))\n",
    "print(arr)\n",
    "\n",
    "print(\"--\"*30)\n",
    "print(f'Index of the minimum value of the array: {arr.argmin()}')\n",
    "\n",
    "print(f'Index of the minimum value of the array: {arr.argmin(axis=0)}') # this will return the index of the minimum value of each column\n",
    "\n",
    "print(f'Index of the minimum value of the array: {arr.argmin(axis=1)}') # this will return the index of the minimum value of each row\n",
    "\n",
    "print(\"--\"*30)\n",
    "\n",
    "print(f'Index of the maximum value of the array: {arr.argmax()}')\n",
    "\n",
    "print(f'Index of the maximum value of the array: {arr.argmax(axis=0)}')\n",
    "\n",
    "print(f'Index of the maximum value of the array: {arr.argmax(axis=1)}')"
   ]
  },
  {
   "cell_type": "code",
   "execution_count": 84,
   "metadata": {},
   "outputs": [
    {
     "name": "stdout",
     "output_type": "stream",
     "text": [
      "[[57 78 43 64]\n",
      " [52 48 27 43]\n",
      " [23 81 50 65]]\n",
      "------------------------------------------------------------\n",
      "The total sum of all elements of arr: 631\n",
      "The sum of all elements of each column : [132 207 120 172]\n",
      "The sum of all elements of each row : [242 170 219]\n"
     ]
    }
   ],
   "source": [
    "# Sum function: this function is used to calculate the sum of the array, you can also specify the axis\n",
    "\n",
    "print(arr)\n",
    "print(\"--\"*30)\n",
    "print(f\"The total sum of all elements of arr: {arr.sum()}\")\n",
    "# print(f\"The total sum of all elements of arr: {np.sum(arr)}\")\n",
    "\n",
    "print(f\"The sum of all elements of each column : {arr.sum(axis=0)}\")\n",
    "\n",
    "print(f\"The sum of all elements of each row : {arr.sum(axis=1)}\")\n"
   ]
  },
  {
   "cell_type": "code",
   "execution_count": 85,
   "metadata": {},
   "outputs": [
    {
     "name": "stdout",
     "output_type": "stream",
     "text": [
      "[[57 78 43 64]\n",
      " [52 48 27 43]\n",
      " [23 81 50 65]]\n",
      "------------------------------------------------------------\n",
      "The cumulative sum of all elements of arr: [ 57 135 178 242 294 342 369 412 435 516 566 631]\n"
     ]
    }
   ],
   "source": [
    "print(arr)\n",
    "print(\"--\"*30)\n",
    "\n",
    "# Cumulative sum: this function is used to calculate the cumulative sum of the array\n",
    "# syntax: np.cumsum(a, axis=None, dtype=None, out=None)\n",
    "\n",
    "print(f\"The cumulative sum of all elements of arr: {arr.cumsum()}\")"
   ]
  },
  {
   "cell_type": "markdown",
   "metadata": {},
   "source": [
    "### <b>Sorting the Arrays:</b>"
   ]
  },
  {
   "cell_type": "code",
   "execution_count": 86,
   "metadata": {},
   "outputs": [
    {
     "name": "stdout",
     "output_type": "stream",
     "text": [
      "[[57 78 43 64]\n",
      " [52 48 27 43]\n",
      " [23 81 50 65]]\n",
      "------------------------------------------------------------\n",
      "Sorting the array:\n",
      "[[43 57 64 78]\n",
      " [27 43 48 52]\n",
      " [23 50 65 81]]\n",
      "Sorting the array by column:\n",
      "[[23 48 27 43]\n",
      " [52 78 43 64]\n",
      " [57 81 50 65]]\n",
      "Sorting the array by row:\n",
      "[[43 57 64 78]\n",
      " [27 43 48 52]\n",
      " [23 50 65 81]]\n"
     ]
    }
   ],
   "source": [
    "print(arr)\n",
    "print(\"--\"*30)\n",
    "print(f\"Sorting the array:\")\n",
    "print(np.sort(arr))\n",
    "\n",
    "print(f\"Sorting the array by column:\")\n",
    "print(np.sort(arr, axis=0))\n",
    "\n",
    "print(f\"Sorting the array by row:\")\n",
    "print(np.sort(arr, axis=1))"
   ]
  },
  {
   "cell_type": "code",
   "execution_count": 87,
   "metadata": {},
   "outputs": [
    {
     "name": "stdout",
     "output_type": "stream",
     "text": [
      "[[57 78 43 64]\n",
      " [52 48 27 43]\n",
      " [23 81 50 65]]\n",
      "------------------------------------------------------------\n",
      "Sorting the array:\n",
      "[[23 27 43 43]\n",
      " [48 50 52 57]\n",
      " [64 65 78 81]]\n"
     ]
    }
   ],
   "source": [
    "# If you want to sort the array so that all the elements in array should be ascending form, \n",
    "# then you can use this technique\n",
    "\n",
    "print(arr)\n",
    "print(\"--\"*30)\n",
    "print(f\"Sorting the array:\")\n",
    "print(np.reshape(np.sort(arr.flatten()), arr.shape))"
   ]
  },
  {
   "cell_type": "code",
   "execution_count": 88,
   "metadata": {},
   "outputs": [
    {
     "name": "stdout",
     "output_type": "stream",
     "text": [
      "Sorting the array using quicksort:\n",
      "[[43 57 64 78]\n",
      " [27 43 48 52]\n",
      " [23 50 65 81]]\n",
      "Sorting the array using mergesort:\n",
      "[[43 57 64 78]\n",
      " [27 43 48 52]\n",
      " [23 50 65 81]]\n"
     ]
    }
   ],
   "source": [
    "# We can choose which sorting algorithm to use by specifying the kind parameter\n",
    "\n",
    "print(f\"Sorting the array using quicksort:\")\n",
    "print(np.sort(arr, kind='quicksort'))\n",
    "\n",
    "print(f\"Sorting the array using mergesort:\")\n",
    "print(np.sort(arr, kind='mergesort'))"
   ]
  },
  {
   "cell_type": "markdown",
   "metadata": {},
   "source": [
    "### <b>Seed Function</b>"
   ]
  },
  {
   "cell_type": "code",
   "execution_count": 89,
   "metadata": {},
   "outputs": [
    {
     "name": "stdout",
     "output_type": "stream",
     "text": [
      "[10 16 65 29 90]\n"
     ]
    }
   ],
   "source": [
    "# Seed function in numpy: this function is used to set the random seed, \n",
    "# so that the random numbers can be generated in a predictable manner\n",
    "# use: \n",
    "\n",
    "np.random.seed(10)\n",
    "arr = np.random.randint(1, 100, 5)\n",
    "print(arr)"
   ]
  },
  {
   "cell_type": "code",
   "execution_count": 90,
   "metadata": {},
   "outputs": [
    {
     "name": "stdout",
     "output_type": "stream",
     "text": [
      "[10 16 65 29 90]\n"
     ]
    }
   ],
   "source": [
    "# if we again generate the random numbers, it will generate the same random numbers (any number of times)\n",
    "np.random.seed(10)\n",
    "arr = np.random.randint(1, 100, 5)\n",
    "print(arr)"
   ]
  },
  {
   "cell_type": "markdown",
   "metadata": {},
   "source": [
    "### <b>Addition, Subtraction, Multiplication, Division and Broadcasting in Arrays</b>"
   ]
  },
  {
   "cell_type": "code",
   "execution_count": 91,
   "metadata": {},
   "outputs": [
    {
     "name": "stdout",
     "output_type": "stream",
     "text": [
      "Array a:\n",
      "[[3 5 7 3 2]\n",
      " [4 6 8 2 1]]\n",
      "Array b:\n",
      "[[6 4 2 8 7]\n",
      " [5 3 1 9 8]]\n",
      "Addition of two arrays:\n",
      "[[ 9  9  9 11  9]\n",
      " [ 9  9  9 11  9]]\n"
     ]
    }
   ],
   "source": [
    "a = np.array([[3, 5, 7, 3, 2], [4, 6, 8, 2, 1]])\n",
    "b = np.array([[6, 4, 2, 8, 7], [5, 3, 1, 9, 8]])\n",
    "\n",
    "print(f\"Array a:\")\n",
    "print(a)\n",
    "print(f\"Array b:\")\n",
    "print(b)\n",
    "\n",
    "print(f\"Addition of two arrays:\")\n",
    "print(a + b)"
   ]
  },
  {
   "cell_type": "code",
   "execution_count": 92,
   "metadata": {},
   "outputs": [
    {
     "name": "stdout",
     "output_type": "stream",
     "text": [
      "[[3 5 7 3 2]\n",
      " [4 6 8 2 1]]\n",
      "------------------------------------------------------------\n",
      "[[ 5  7  9  5  4]\n",
      " [ 6  8 10  4  3]]\n",
      "[[ 1  3  5  1  0]\n",
      " [ 2  4  6  0 -1]]\n"
     ]
    }
   ],
   "source": [
    "# Adding a scalar value to the array\n",
    "print(a)\n",
    "print(\"--\"*30)\n",
    "print(a + 2) # this will add 2 to each element of the array\n",
    "\n",
    "# Its like matrix addition in numpy, A + x = x will be added in each value of A, where x is a scalar value\n",
    "\n",
    "# Subtracting a scalar value from the array\n",
    "print(a - 2) # this will subtract 2 from each element of the array"
   ]
  },
  {
   "cell_type": "code",
   "execution_count": 93,
   "metadata": {},
   "outputs": [
    {
     "name": "stdout",
     "output_type": "stream",
     "text": [
      "[[2 4 6]\n",
      " [5 7 9]]\n"
     ]
    }
   ],
   "source": [
    "# Adding array of different shape\n",
    "a = np.array([[1, 2, 3], [4, 5, 6]])\n",
    "b = np.array([1, 2, 3])\n",
    "\n",
    "print(a + b) # this will add b to each row of a, this is called broadcasting"
   ]
  },
  {
   "cell_type": "markdown",
   "metadata": {},
   "source": [
    "### <b>Broadcasting</b>"
   ]
  },
  {
   "cell_type": "code",
   "execution_count": 94,
   "metadata": {},
   "outputs": [],
   "source": [
    "# Broadcasting in numpy : is a mechanism that allows numpy to work with arrays of different shapes when performing arithmetic operations.\n",
    "\n",
    "# In broadcasting, the smaller array is broadcasted across the larger array so that they have compatible shapes.\n",
    "\n",
    "# Like in the above example, the array b is broadcasted across the array a so that they have compatible shapes.\n",
    "\n",
    "# Columns in are equal to a, so b is broadcasted across the columns of a. b becomes updated to b = [[1, 2, 3], [1, 2, 3]]\n",
    "# to match the shape of a. And then addintion is performed."
   ]
  },
  {
   "cell_type": "code",
   "execution_count": 95,
   "metadata": {},
   "outputs": [
    {
     "name": "stdout",
     "output_type": "stream",
     "text": [
      "Subtraction of two arrays:\n",
      "[[-3  1  5 -5 -5]\n",
      " [-1  3  7 -7 -7]]\n",
      "Subtracting a scalar from array;\n",
      "[[ 0  2  4  0 -1]\n",
      " [ 1  3  5 -1 -2]]\n"
     ]
    }
   ],
   "source": [
    "# Subtraction of two arrays\n",
    "\n",
    "a = np.array([[3, 5, 7, 3, 2], [4, 6, 8, 2, 1]])\n",
    "b = np.array([[6, 4, 2, 8, 7], [5, 3, 1, 9, 8]])\n",
    "\n",
    "print(f\"Subtraction of two arrays:\")\n",
    "print(a - b)\n",
    "\n",
    "print(\"Subtracting a scalar from array;\")\n",
    "print(a -3)"
   ]
  },
  {
   "cell_type": "code",
   "execution_count": 96,
   "metadata": {},
   "outputs": [
    {
     "name": "stdout",
     "output_type": "stream",
     "text": [
      "[[18 20 14 24 14]\n",
      " [20 18  8 18  8]]\n",
      "[[ 6 10 14  6  4]\n",
      " [ 8 12 16  4  2]]\n",
      "Matrix multiplication of two arrays:\n",
      "[[19 22]\n",
      " [43 50]]\n",
      "Matrix multiplication of two arrays:\n",
      "[[19 22]\n",
      " [43 50]]\n"
     ]
    }
   ],
   "source": [
    "# Multiplication of two arrays\n",
    "print(a*b) # this will multiply the corresponding elements of the array\n",
    "\n",
    "# Multiplying a scalar value to the array\n",
    "print(a*2) # this will multiply 2 to each element of the array\n",
    "\n",
    "# Matrix multiplication\n",
    "arr1 = np.array([[1, 2], [3, 4]])\n",
    "arr2 = np.array([[5, 6], [7, 8]])\n",
    "print(f\"Matrix multiplication of two arrays:\")\n",
    "print(np.dot(arr1, arr2))\n",
    "\n",
    "print(f\"Matrix multiplication of two arrays:\")\n",
    "print(arr1@arr2)"
   ]
  },
  {
   "cell_type": "code",
   "execution_count": 97,
   "metadata": {},
   "outputs": [
    {
     "name": "stdout",
     "output_type": "stream",
     "text": [
      "[[0.5        1.25       3.5        0.375      0.28571429]\n",
      " [0.8        2.         8.         0.22222222 0.125     ]]\n",
      "[[1.5 2.5 3.5 1.5 1. ]\n",
      " [2.  3.  4.  1.  0.5]]\n"
     ]
    }
   ],
   "source": [
    "# Division\n",
    "\n",
    "print(a/b)\n",
    "\n",
    "# Dividing a scalar value from the array\n",
    "print(a/2)"
   ]
  },
  {
   "cell_type": "markdown",
   "metadata": {},
   "source": [
    "### <b>Power</b>"
   ]
  },
  {
   "cell_type": "code",
   "execution_count": 98,
   "metadata": {},
   "outputs": [
    {
     "name": "stdout",
     "output_type": "stream",
     "text": [
      "[[ 9 25 49  9  4]\n",
      " [16 36 64  4  1]]\n"
     ]
    }
   ],
   "source": [
    "print(a**2) # this will square each element of the array"
   ]
  },
  {
   "cell_type": "markdown",
   "metadata": {},
   "source": [
    "## <b>Transposing</b>"
   ]
  },
  {
   "cell_type": "code",
   "execution_count": 99,
   "metadata": {},
   "outputs": [
    {
     "name": "stdout",
     "output_type": "stream",
     "text": [
      "[[1 2 3]\n",
      " [4 5 6]\n",
      " [7 8 9]]\n",
      "Transpose of the array:\n",
      "[[1 4 7]\n",
      " [2 5 8]\n",
      " [3 6 9]]\n"
     ]
    }
   ],
   "source": [
    "# Transpose of an array\n",
    "# Transpose of an array is obtained by interchanging the rows and columns of the array\n",
    "\n",
    "a = np.array([[1, 2, 3], [4, 5, 6], [7, 8, 9]])\n",
    "print(a)\n",
    "print(f\"Transpose of the array:\")\n",
    "# print(a.transpose())\n",
    "print(a.T) # or just use T attribute"
   ]
  },
  {
   "cell_type": "code",
   "execution_count": null,
   "metadata": {},
   "outputs": [],
   "source": []
  }
 ],
 "metadata": {
  "kernelspec": {
   "display_name": "Python 3 (ipykernel)",
   "language": "python",
   "name": "python3"
  },
  "language_info": {
   "codemirror_mode": {
    "name": "ipython",
    "version": 3
   },
   "file_extension": ".py",
   "mimetype": "text/x-python",
   "name": "python",
   "nbconvert_exporter": "python",
   "pygments_lexer": "ipython3",
   "version": "3.11.8"
  }
 },
 "nbformat": 4,
 "nbformat_minor": 4
}
