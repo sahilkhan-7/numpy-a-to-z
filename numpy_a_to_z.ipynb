{
 "cells": [
  {
   "cell_type": "markdown",
   "metadata": {},
   "source": [
    "# <font color = \"#6585e7\"><b>Numpy A to Z</b></font>"
   ]
  },
  {
   "cell_type": "markdown",
   "metadata": {},
   "source": [
    "NumPy is the fundamental package for scientific computing in Python. It is a Python library that provides a multidimensional array object, various derived objects (such as masked arrays and matrices), and an assortment of routines for fast operations on arrays, including mathematical, logical, shape manipulation, sorting, selecting, I/O, discrete Fourier transforms, basic linear algebra, basic statistical operations, random simulation and much more."
   ]
  },
  {
   "cell_type": "markdown",
   "metadata": {},
   "source": [
    "NumPy, short for Numerical Python, is an essential library in the Python ecosystem for numerical computing. It provides support for large, multi-dimensional arrays and matrices, along with a collection of mathematical functions to operate on these arrays efficiently. NumPy serves as the foundation for a variety of scientific computing libraries, such as SciPy (for scientific computing), Pandas (for data analysis), and Matplotlib (for data visualization)."
   ]
  },
  {
   "cell_type": "markdown",
   "metadata": {},
   "source": [
    "### <b>Creating Array in Python</b>"
   ]
  },
  {
   "cell_type": "code",
   "execution_count": 1,
   "metadata": {},
   "outputs": [
    {
     "name": "stdout",
     "output_type": "stream",
     "text": [
      "The new created array is :  array('i', [1, 2, 3, 4, 5])\n"
     ]
    }
   ],
   "source": [
    "import array\n",
    "\n",
    "# syntax : \n",
    "# array.array(typecode, [Initializers]), typecodes = i, f, d, u, l, b, B, h, H for int, float, double, unicode, long, signed char, unsigned char, short, unsigned short respectively\n",
    "arr = array.array('i', [1, 2, 3, 4, 5]) # this will create an array of integers\n",
    "print(\"The new created array is : \", arr)"
   ]
  },
  {
   "cell_type": "code",
   "execution_count": 2,
   "metadata": {},
   "outputs": [
    {
     "name": "stdout",
     "output_type": "stream",
     "text": [
      "The new created array is :  array('f', [1.100000023841858, 2.200000047683716, 3.299999952316284, 4.400000095367432, 5.5])\n"
     ]
    }
   ],
   "source": [
    "arr_float = array.array('f', [1.1, 2.2, 3.3, 4.4, 5.5]) \n",
    "print(\"The new created array is : \", arr_float)"
   ]
  },
  {
   "cell_type": "code",
   "execution_count": 3,
   "metadata": {},
   "outputs": [
    {
     "data": {
      "text/plain": [
       "array('i', [1, 2, 3, 4, 5, 6, 7, 8, 9, 10])"
      ]
     },
     "execution_count": 3,
     "metadata": {},
     "output_type": "execute_result"
    }
   ],
   "source": [
    "a = array.array('i', [1, 2, 3, 4, 5])\n",
    "b = array.array('i', [6, 7, 8, 9, 10])\n",
    "c = a + b # concatenation of two arrays\n",
    "c"
   ]
  },
  {
   "cell_type": "code",
   "execution_count": 4,
   "metadata": {},
   "outputs": [
    {
     "name": "stdout",
     "output_type": "stream",
     "text": [
      "The new created array is :  array('i', [7, 9, 11, 13, 15])\n"
     ]
    }
   ],
   "source": [
    "# adding the elements of two arrays\n",
    "d = array.array('i', [0, 0, 0, 0, 0])\n",
    "for i in range(len(a)):\n",
    "    d[i] = a[i] + b[i]\n",
    "print(\"The new created array is : \", d)"
   ]
  },
  {
   "cell_type": "markdown",
   "metadata": {},
   "source": [
    "## <b>Creating Numpy array</b>"
   ]
  },
  {
   "cell_type": "code",
   "execution_count": 5,
   "metadata": {},
   "outputs": [],
   "source": [
    "import numpy as np # np is a standard alias for numpy"
   ]
  },
  {
   "cell_type": "markdown",
   "metadata": {},
   "source": [
    "### <b>Creating an numpy array using list, tuple, range, etc</b>"
   ]
  },
  {
   "cell_type": "code",
   "execution_count": 6,
   "metadata": {},
   "outputs": [
    {
     "name": "stdout",
     "output_type": "stream",
     "text": [
      "[1 2 3 4 5]\n",
      "[1 2 3 4 5]\n",
      "[1 2 3 4 5]\n"
     ]
    }
   ],
   "source": [
    "l = [1, 2, 3, 4, 5]\n",
    "arr1 = np.array(l)\n",
    "\n",
    "t = (1, 2, 3, 4, 5)\n",
    "arr2 = np.array(t)\n",
    "\n",
    "arr3 = np.array(range(1, 6))\n",
    "print(arr1)\n",
    "print(arr2)\n",
    "print(arr3)"
   ]
  },
  {
   "cell_type": "markdown",
   "metadata": {},
   "source": [
    "### <b>Creating an numpy array using arange, linspace, etc</b>"
   ]
  },
  {
   "cell_type": "code",
   "execution_count": 7,
   "metadata": {},
   "outputs": [
    {
     "name": "stdout",
     "output_type": "stream",
     "text": [
      "[1 2 3 4 5]\n",
      "[1. 2. 3. 4. 5.]\n",
      "[1.         1.44444444 1.88888889 2.33333333 2.77777778 3.22222222\n",
      " 3.66666667 4.11111111 4.55555556 5.        ]\n"
     ]
    }
   ],
   "source": [
    "arr = np.arange(1, 6) # this will create an array of 1 to 5 like range function\n",
    "print(arr)\n",
    "\n",
    "arr = np.linspace(1, 5, 5) # this will create an array of 1 to 5 with 5 equally spaced elements\n",
    "print(arr)\n",
    "\n",
    "arr = np.linspace(1, 5, 10) # this will create an array of 1 to 5 with 10 equally spaced elements, difference between two consecutive elements will be same\n",
    "print(arr)"
   ]
  },
  {
   "cell_type": "markdown",
   "metadata": {},
   "source": [
    "### <b>Creating other types of arrays</b>"
   ]
  },
  {
   "cell_type": "code",
   "execution_count": 8,
   "metadata": {},
   "outputs": [
    {
     "name": "stdout",
     "output_type": "stream",
     "text": [
      "[10 10 10 10 10]\n"
     ]
    }
   ],
   "source": [
    "# creating an array of constant values\n",
    "\n",
    "arr = np.full(5, 10) # this will create an array of 5 elements with all elements as 10\n",
    "print(arr)"
   ]
  },
  {
   "cell_type": "code",
   "execution_count": 9,
   "metadata": {},
   "outputs": [
    {
     "name": "stdout",
     "output_type": "stream",
     "text": [
      "[0 0 0 0 0]\n"
     ]
    }
   ],
   "source": [
    "arr = np.empty(5, dtype=int) # this will create an array of 5 elements with random values of integer type\n",
    "print(arr)"
   ]
  },
  {
   "cell_type": "markdown",
   "metadata": {},
   "source": [
    "### <b>Creating Multidimensional Arrays</b>"
   ]
  },
  {
   "cell_type": "code",
   "execution_count": 10,
   "metadata": {},
   "outputs": [
    {
     "name": "stdout",
     "output_type": "stream",
     "text": [
      "[[1 2 3]\n",
      " [4 5 6]\n",
      " [7 8 9]]\n"
     ]
    }
   ],
   "source": [
    "# Creaing 2d array\n",
    "# with 2d list, tuple\n",
    "\n",
    "l = [[1, 2, 3], [4, 5, 6], [7, 8, 9]]\n",
    "arr = np.array(l)\n",
    "print(arr)\n",
    "\n"
   ]
  },
  {
   "cell_type": "code",
   "execution_count": 11,
   "metadata": {},
   "outputs": [
    {
     "name": "stdout",
     "output_type": "stream",
     "text": [
      "[[[ 1  2  3]\n",
      "  [ 4  5  6]]\n",
      "\n",
      " [[ 7  8  9]\n",
      "  [10 11 12]]]\n"
     ]
    }
   ],
   "source": [
    "# Creaing 3d array\n",
    "\n",
    "arr = np.array([[[1, 2, 3], [4, 5, 6]], [[7, 8, 9], [10, 11, 12]]])\n",
    "print(arr)"
   ]
  },
  {
   "cell_type": "markdown",
   "metadata": {},
   "source": [
    "---"
   ]
  },
  {
   "cell_type": "markdown",
   "metadata": {},
   "source": [
    "### <b>Shape, Size, Dtype and Ndim</b>"
   ]
  },
  {
   "cell_type": "code",
   "execution_count": 12,
   "metadata": {},
   "outputs": [
    {
     "name": "stdout",
     "output_type": "stream",
     "text": [
      "Shape of the arr: (2, 2, 3)\n",
      "Size of the arr: 12\n",
      "Dimension of arr: 3\n"
     ]
    }
   ],
   "source": [
    "# checking the shape of the array, shape method will return the shape of the array\n",
    "print(f\"Shape of the arr: {arr.shape}\")\n",
    "\n",
    "# checking the size of the array, size method will return the total number of elements in the array\n",
    "print(f\"Size of the arr: {arr.size}\")\n",
    "\n",
    "# checking the dimension of the array, ndim is used to check the dimension of the array\n",
    "print(f\"Dimension of arr: {arr.ndim}\")"
   ]
  },
  {
   "cell_type": "code",
   "execution_count": 13,
   "metadata": {},
   "outputs": [
    {
     "name": "stdout",
     "output_type": "stream",
     "text": [
      "Dimension of arr1: 1\n",
      "Dimension of arr2: 2\n",
      "Dimension of arr3: 3\n"
     ]
    }
   ],
   "source": [
    "arr1 = np.array([1, 2, 3, 4, 5])\n",
    "arr2 = np.array([[1, 2, 3], [4, 5, 6]])\n",
    "arr3 = np.array([[[1, 2, 3], [4, 5, 6]], [[7, 8, 9], [10, 11, 12]]])\n",
    "print(f\"Dimension of arr1: {arr1.ndim}\")\n",
    "print(f\"Dimension of arr2: {arr2.ndim}\")\n",
    "print(f\"Dimension of arr3: {arr3.ndim}\")"
   ]
  },
  {
   "cell_type": "code",
   "execution_count": 14,
   "metadata": {},
   "outputs": [
    {
     "name": "stdout",
     "output_type": "stream",
     "text": [
      "[[ 1.  2.  3.  4.  5.]\n",
      " [ 6.  7.  8.  9. 10.]]\n",
      "Array shape: (2, 5)\n",
      "Size of Array: 10\n",
      "Itemsize of the Array: 8\n",
      "Datatype of the Array: float64\n",
      "Dimension of arr: 2\n"
     ]
    }
   ],
   "source": [
    "arr = np.array([[1, 2, 3, 4, 5], [6, 7, 8, 9, 10]], dtype=float)\n",
    "print(arr)\n",
    "print(f\"Array shape: {arr.shape}\")\n",
    "print(f\"Size of Array: {arr.size}\")\n",
    "print(f\"Itemsize of the Array: {arr.itemsize}\")\n",
    "print(f\"Datatype of the Array: {arr.dtype}\")\n",
    "print(f\"Dimension of arr: {arr.ndim}\")"
   ]
  },
  {
   "cell_type": "code",
   "execution_count": 15,
   "metadata": {},
   "outputs": [
    {
     "name": "stdout",
     "output_type": "stream",
     "text": [
      "[[[ 1.  2.  3.  4.  5.]\n",
      "  [ 6.  7.  8.  9. 10.]]\n",
      "\n",
      " [[11. 12. 13. 14. 15.]\n",
      "  [16. 17. 18. 19. 20.]]]\n",
      "Array shape: (2, 2, 5)\n",
      "Size of Array: 20\n",
      "Itemsize of the Array: 8\n",
      "Datatype of the Array: float64\n",
      "Dimension of arr: 3\n"
     ]
    }
   ],
   "source": [
    "arr = np.array([[[1, 2, 3, 4, 5], [6, 7, 8, 9, 10]], [[11, 12, 13, 14, 15], [16, 17, 18, 19, 20]]], dtype=float)\n",
    "print(arr)\n",
    "print(f\"Array shape: {arr.shape}\")\n",
    "print(f\"Size of Array: {arr.size}\")\n",
    "print(f\"Itemsize of the Array: {arr.itemsize}\")\n",
    "print(f\"Datatype of the Array: {arr.dtype}\")\n",
    "print(f\"Dimension of arr: {arr.ndim}\")"
   ]
  },
  {
   "cell_type": "markdown",
   "metadata": {},
   "source": [
    "### <b>Zeros and Ones Array</b>"
   ]
  },
  {
   "cell_type": "code",
   "execution_count": 16,
   "metadata": {},
   "outputs": [
    {
     "name": "stdout",
     "output_type": "stream",
     "text": [
      "[1. 1. 1. 1. 1.]\n",
      "[0. 0. 0. 0. 0.]\n",
      "[0. 0. 0. 0. 0.]\n"
     ]
    }
   ],
   "source": [
    "# creating an array of ones, zeros and empty array\n",
    "\n",
    "arr = np.ones(5) # this will create an array of 5 elements with all elements as 1\n",
    "print(arr)\n",
    "\n",
    "arr = np.zeros(5) # this will create an array of 5 elements with all elements as 0\n",
    "print(arr)\n",
    "\n",
    "arr = np.empty(5) # this will create an array of 5 elements with random values\n",
    "print(arr)"
   ]
  },
  {
   "cell_type": "code",
   "execution_count": 17,
   "metadata": {},
   "outputs": [
    {
     "name": "stdout",
     "output_type": "stream",
     "text": [
      "2D array of Zeros:\n",
      "[[0. 0. 0.]\n",
      " [0. 0. 0.]]\n",
      "\n",
      "3D array of Zeros:\n",
      "[[[0. 0. 0. 0.]\n",
      "  [0. 0. 0. 0.]\n",
      "  [0. 0. 0. 0.]]\n",
      "\n",
      " [[0. 0. 0. 0.]\n",
      "  [0. 0. 0. 0.]\n",
      "  [0. 0. 0. 0.]]]\n"
     ]
    }
   ],
   "source": [
    "zeros = np.zeros((2, 3)) # 2D array of zeros\n",
    "print(\"2D array of Zeros:\")\n",
    "print(zeros)\n",
    "\n",
    "print()\n",
    "zeros = np.zeros((2, 3, 4)) # 3D array of zeros\n",
    "print(\"3D array of Zeros:\")\n",
    "print(zeros)"
   ]
  },
  {
   "cell_type": "markdown",
   "metadata": {},
   "source": [
    "### <b>Linspace and Logspace</b>"
   ]
  },
  {
   "cell_type": "code",
   "execution_count": 26,
   "metadata": {},
   "outputs": [
    {
     "name": "stdout",
     "output_type": "stream",
     "text": [
      "Creating array using Linspace:\n",
      "[1. 2. 3. 4. 5.]\n",
      "Creating array using Logspace:\n",
      "[1.e+01 1.e+02 1.e+03 1.e+04 1.e+05]\n"
     ]
    }
   ],
   "source": [
    "# Linspace : this function is used to create an array of evenly spaced values over a specified range\n",
    "# syntax: np.linspace(start, stop, num=50, endpoint=True, retstep=False, dtype=None, axis=0)\n",
    "# start: the starting value of the sequence\n",
    "# stop: the end value of the sequence\n",
    "# num: the number of samples to generate, default is 50\n",
    "# endpoint: if true, stop is the last sample, otherwise, it is not included\n",
    "# retstep: if true, return (samples, step), where step is the spacing between samples\n",
    "# dtype: the type of the output array\n",
    "# axis: the axis in the result to store the samples\n",
    "\n",
    "# creating an array of evenly spaced values\n",
    "\n",
    "print(\"Creating array using Linspace:\")\n",
    "arr1 = np.linspace(1, 5, 5) # this will create an array of 1 to 5 with 5 equally spaced elements\n",
    "print(arr1)\n",
    "\n",
    "# Logspace: this function is used to create an array of evenly spaced values on a log scale\n",
    "# syntax: np.logspace(start, stop, num=50, endpoint=True, base=10.0, dtype=None, axis=0)\n",
    "# Base: the base of the log space, default is 10.0\n",
    "\n",
    "print(\"Creating array using Logspace:\")\n",
    "arr2 = np.logspace(1, 5, 5) # this will create an array of 1 to 5 with 5 equally spaced elements\n",
    "print(arr2)\n"
   ]
  },
  {
   "cell_type": "markdown",
   "metadata": {},
   "source": [
    "### <b>Arrays Indexing and Slicing</b>"
   ]
  },
  {
   "cell_type": "code",
   "execution_count": 19,
   "metadata": {},
   "outputs": [
    {
     "name": "stdout",
     "output_type": "stream",
     "text": [
      "[1 2 3 4 5 6 7 8 9]\n",
      "First element of the array: 1\n",
      "Second element of the array: 2\n",
      "Last element of the array: 9\n"
     ]
    }
   ],
   "source": [
    "# Indexing in 1D array\n",
    "# indexing in 1D array is similar to the indexing in python list, index start with zeor\n",
    "\n",
    "arr = np.arange(1, 10)\n",
    "print(arr)\n",
    "print(f'First element of the array: {arr[0]}')\n",
    "print(f'Second element of the array: {arr[1]}')\n",
    "print(f'Last element of the array: {arr[-1]}')"
   ]
  },
  {
   "cell_type": "code",
   "execution_count": 20,
   "metadata": {},
   "outputs": [
    {
     "name": "stdout",
     "output_type": "stream",
     "text": [
      "[1 2 3 4 5 6 7 8 9]\n",
      "[3 4 5 6]\n"
     ]
    }
   ],
   "source": [
    "# Slicing of array is also similar to python list\n",
    "a = arr[2:6] # index start with 0\n",
    "print(arr)\n",
    "print(a)"
   ]
  },
  {
   "cell_type": "code",
   "execution_count": 21,
   "metadata": {},
   "outputs": [
    {
     "name": "stdout",
     "output_type": "stream",
     "text": [
      "[[1 2 3]\n",
      " [4 5 6]\n",
      " [7 8 9]]\n",
      "Indexing in 2D array:\n",
      "Element at 0th row and 0th column: 1\n",
      "Element at 0th row and 1st column: 2\n",
      "Element at last row and last column: 9\n",
      "\n",
      "Slicing in 2D array:\n",
      "\n",
      "First row of the array:\n",
      "[1 2 3]\n",
      "First column of the array:\n",
      "[1 4 7]\n",
      "First two rows of the array:\n",
      "[[1 2 3]\n",
      " [4 5 6]]\n",
      "First two columns of the array:\n",
      "[[1 2]\n",
      " [4 5]\n",
      " [7 8]]\n",
      "Element at 0th row and 1st column:\n",
      "2\n"
     ]
    }
   ],
   "source": [
    "# Indexing in 2D array\n",
    "\n",
    "arr = np.array([[1, 2, 3], [4, 5, 6], [7, 8, 9]])\n",
    "print(arr)\n",
    "print(\"Indexing in 2D array:\")\n",
    "print(f'Element at 0th row and 0th column: {arr[0, 0]}')\n",
    "print(f'Element at 0th row and 1st column: {arr[0, 1]}')\n",
    "print(f'Element at last row and last column: {arr[-1, -1]}', end=\"\\n\\n\")\n",
    "\n",
    "print(\"Slicing in 2D array:\", end=\"\\n\\n\")\n",
    "\n",
    "print(f'First row of the array:')\n",
    "print(arr[0])\n",
    "print(f'First column of the array:')\n",
    "print(arr[:, 0])\n",
    "print(f'First two rows of the array:')\n",
    "print(arr[:2])\n",
    "print(f'First two columns of the array:')\n",
    "print(arr[:, :2])\n",
    "print(f'Element at 0th row and 1st column:')\n",
    "print(arr[0, 1])"
   ]
  },
  {
   "cell_type": "code",
   "execution_count": 22,
   "metadata": {},
   "outputs": [
    {
     "name": "stdout",
     "output_type": "stream",
     "text": [
      "[[[ 1  2  3]\n",
      "  [ 4  5  6]]\n",
      "\n",
      " [[ 7  8  9]\n",
      "  [10 11 12]]]\n",
      "\n",
      "Indexing in 3D array:\n",
      "\n",
      "Element at 0th row, 0th column and 0th depth:\n",
      "1\n",
      "Element at 1th row, 0th column and 1st depth:\n",
      "8\n"
     ]
    }
   ],
   "source": [
    "# Indexing in 3D array\n",
    "\n",
    "arr = np.array([[[1, 2, 3], [4, 5, 6]], [[7, 8, 9], [10, 11, 12]]])\n",
    "print(arr, end=\"\\n\\n\")\n",
    "print(\"Indexing in 3D array:\", end=\"\\n\\n\")\n",
    "print(f'Element at 0th row, 0th column and 0th depth:')\n",
    "print(arr[0, 0, 0])\n",
    "\n",
    "print(f'Element at 1th row, 0th column and 1st depth:')\n",
    "print(arr[1, 0, 1])"
   ]
  },
  {
   "cell_type": "markdown",
   "metadata": {},
   "source": [
    "---"
   ]
  },
  {
   "cell_type": "code",
   "execution_count": null,
   "metadata": {},
   "outputs": [],
   "source": []
  }
 ],
 "metadata": {
  "kernelspec": {
   "display_name": "Python 3 (ipykernel)",
   "language": "python",
   "name": "python3"
  },
  "language_info": {
   "codemirror_mode": {
    "name": "ipython",
    "version": 3
   },
   "file_extension": ".py",
   "mimetype": "text/x-python",
   "name": "python",
   "nbconvert_exporter": "python",
   "pygments_lexer": "ipython3",
   "version": "3.11.8"
  }
 },
 "nbformat": 4,
 "nbformat_minor": 4
}
