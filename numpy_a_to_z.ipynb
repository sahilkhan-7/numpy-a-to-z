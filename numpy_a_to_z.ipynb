{
 "cells": [
  {
   "cell_type": "markdown",
   "metadata": {},
   "source": [
    "# <font color = \"#6585e7\"><b>Numpy A to Z</b></font>"
   ]
  },
  {
   "cell_type": "markdown",
   "metadata": {},
   "source": [
    "NumPy is the fundamental package for scientific computing in Python. It is a Python library that provides a multidimensional array object, various derived objects (such as masked arrays and matrices), and an assortment of routines for fast operations on arrays, including mathematical, logical, shape manipulation, sorting, selecting, I/O, discrete Fourier transforms, basic linear algebra, basic statistical operations, random simulation and much more."
   ]
  },
  {
   "cell_type": "markdown",
   "metadata": {},
   "source": [
    "NumPy, short for Numerical Python, is an essential library in the Python ecosystem for numerical computing. It provides support for large, multi-dimensional arrays and matrices, along with a collection of mathematical functions to operate on these arrays efficiently. NumPy serves as the foundation for a variety of scientific computing libraries, such as SciPy (for scientific computing), Pandas (for data analysis), and Matplotlib (for data visualization)."
   ]
  },
  {
   "cell_type": "markdown",
   "metadata": {},
   "source": [
    "### <b>Creating Array in Python</b>"
   ]
  },
  {
   "cell_type": "code",
   "execution_count": 1,
   "metadata": {},
   "outputs": [
    {
     "name": "stdout",
     "output_type": "stream",
     "text": [
      "The new created array is :  array('i', [1, 2, 3, 4, 5])\n"
     ]
    }
   ],
   "source": [
    "import array\n",
    "\n",
    "# syntax : \n",
    "# array.array(typecode, [Initializers]), typecodes = i, f, d, u, l, b, B, h, H for int, float, double, unicode, long, signed char, unsigned char, short, unsigned short respectively\n",
    "arr = array.array('i', [1, 2, 3, 4, 5]) # this will create an array of integers\n",
    "print(\"The new created array is : \", arr)"
   ]
  },
  {
   "cell_type": "code",
   "execution_count": 2,
   "metadata": {},
   "outputs": [
    {
     "name": "stdout",
     "output_type": "stream",
     "text": [
      "The new created array is :  array('f', [1.100000023841858, 2.200000047683716, 3.299999952316284, 4.400000095367432, 5.5])\n"
     ]
    }
   ],
   "source": [
    "arr_float = array.array('f', [1.1, 2.2, 3.3, 4.4, 5.5]) \n",
    "print(\"The new created array is : \", arr_float)"
   ]
  },
  {
   "cell_type": "code",
   "execution_count": 3,
   "metadata": {},
   "outputs": [
    {
     "data": {
      "text/plain": [
       "array('i', [1, 2, 3, 4, 5, 6, 7, 8, 9, 10])"
      ]
     },
     "execution_count": 3,
     "metadata": {},
     "output_type": "execute_result"
    }
   ],
   "source": [
    "a = array.array('i', [1, 2, 3, 4, 5])\n",
    "b = array.array('i', [6, 7, 8, 9, 10])\n",
    "c = a + b # concatenation of two arrays\n",
    "c"
   ]
  },
  {
   "cell_type": "code",
   "execution_count": 4,
   "metadata": {},
   "outputs": [
    {
     "name": "stdout",
     "output_type": "stream",
     "text": [
      "The new created array is :  array('i', [7, 9, 11, 13, 15])\n"
     ]
    }
   ],
   "source": [
    "# adding the elements of two arrays\n",
    "d = array.array('i', [0, 0, 0, 0, 0])\n",
    "for i in range(len(a)):\n",
    "    d[i] = a[i] + b[i]\n",
    "print(\"The new created array is : \", d)"
   ]
  },
  {
   "cell_type": "markdown",
   "metadata": {},
   "source": [
    "## <b>Creating Numpy array</b>"
   ]
  },
  {
   "cell_type": "code",
   "execution_count": 5,
   "metadata": {},
   "outputs": [],
   "source": [
    "import numpy as np # np is a standard alias for numpy"
   ]
  },
  {
   "cell_type": "markdown",
   "metadata": {},
   "source": [
    "### <b>Creating an numpy array using list, tuple, range, etc</b>"
   ]
  },
  {
   "cell_type": "code",
   "execution_count": 6,
   "metadata": {},
   "outputs": [
    {
     "name": "stdout",
     "output_type": "stream",
     "text": [
      "[1 2 3 4 5]\n",
      "[1 2 3 4 5]\n",
      "[1 2 3 4 5]\n"
     ]
    }
   ],
   "source": [
    "l = [1, 2, 3, 4, 5]\n",
    "arr1 = np.array(l)\n",
    "\n",
    "t = (1, 2, 3, 4, 5)\n",
    "arr2 = np.array(t)\n",
    "\n",
    "arr3 = np.array(range(1, 6))\n",
    "print(arr1)\n",
    "print(arr2)\n",
    "print(arr3)"
   ]
  },
  {
   "cell_type": "markdown",
   "metadata": {},
   "source": [
    "### <b>Creating an numpy array using arange, linspace, etc</b>"
   ]
  },
  {
   "cell_type": "code",
   "execution_count": 7,
   "metadata": {},
   "outputs": [
    {
     "name": "stdout",
     "output_type": "stream",
     "text": [
      "[1 2 3 4 5]\n",
      "[1. 2. 3. 4. 5.]\n",
      "[1.         1.44444444 1.88888889 2.33333333 2.77777778 3.22222222\n",
      " 3.66666667 4.11111111 4.55555556 5.        ]\n"
     ]
    }
   ],
   "source": [
    "arr = np.arange(1, 6) # this will create an array of 1 to 5 like range function\n",
    "print(arr)\n",
    "\n",
    "arr = np.linspace(1, 5, 5) # this will create an array of 1 to 5 with 5 equally spaced elements\n",
    "print(arr)\n",
    "\n",
    "arr = np.linspace(1, 5, 10) # this will create an array of 1 to 5 with 10 equally spaced elements, difference between two consecutive elements will be same\n",
    "print(arr)"
   ]
  },
  {
   "cell_type": "markdown",
   "metadata": {},
   "source": [
    "### <b>Creating other types of arrays</b>"
   ]
  },
  {
   "cell_type": "code",
   "execution_count": 8,
   "metadata": {},
   "outputs": [
    {
     "name": "stdout",
     "output_type": "stream",
     "text": [
      "[10 10 10 10 10]\n"
     ]
    }
   ],
   "source": [
    "# creating an array of constant values\n",
    "\n",
    "arr = np.full(5, 10) # this will create an array of 5 elements with all elements as 10\n",
    "print(arr)"
   ]
  },
  {
   "cell_type": "code",
   "execution_count": 9,
   "metadata": {},
   "outputs": [
    {
     "name": "stdout",
     "output_type": "stream",
     "text": [
      "[-456496464        512          0          0     131074]\n"
     ]
    }
   ],
   "source": [
    "arr = np.empty(5, dtype=int) # this will create an array of 5 elements with random values of integer type\n",
    "print(arr)"
   ]
  },
  {
   "cell_type": "markdown",
   "metadata": {},
   "source": [
    "### <b>Creating Multidimensional Arrays</b>"
   ]
  },
  {
   "cell_type": "code",
   "execution_count": 10,
   "metadata": {},
   "outputs": [
    {
     "name": "stdout",
     "output_type": "stream",
     "text": [
      "[[1 2 3]\n",
      " [4 5 6]\n",
      " [7 8 9]]\n"
     ]
    }
   ],
   "source": [
    "# Creaing 2d array\n",
    "# with 2d list, tuple\n",
    "\n",
    "l = [[1, 2, 3], [4, 5, 6], [7, 8, 9]]\n",
    "arr = np.array(l)\n",
    "print(arr)\n",
    "\n"
   ]
  },
  {
   "cell_type": "code",
   "execution_count": 11,
   "metadata": {},
   "outputs": [
    {
     "name": "stdout",
     "output_type": "stream",
     "text": [
      "[[[ 1  2  3]\n",
      "  [ 4  5  6]]\n",
      "\n",
      " [[ 7  8  9]\n",
      "  [10 11 12]]]\n"
     ]
    }
   ],
   "source": [
    "# Creaing 3d array\n",
    "\n",
    "arr = np.array([[[1, 2, 3], [4, 5, 6]], [[7, 8, 9], [10, 11, 12]]])\n",
    "print(arr)"
   ]
  },
  {
   "cell_type": "markdown",
   "metadata": {},
   "source": [
    "---"
   ]
  },
  {
   "cell_type": "markdown",
   "metadata": {},
   "source": [
    "### <b>Shape, Size, Dtype and Ndim</b>"
   ]
  },
  {
   "cell_type": "code",
   "execution_count": 12,
   "metadata": {},
   "outputs": [
    {
     "name": "stdout",
     "output_type": "stream",
     "text": [
      "Shape of the arr: (2, 2, 3)\n",
      "Size of the arr: 12\n",
      "Dimension of arr: 3\n"
     ]
    }
   ],
   "source": [
    "# checking the shape of the array, shape method will return the shape of the array\n",
    "print(f\"Shape of the arr: {arr.shape}\")\n",
    "\n",
    "# checking the size of the array, size method will return the total number of elements in the array\n",
    "print(f\"Size of the arr: {arr.size}\")\n",
    "\n",
    "# checking the dimension of the array, ndim is used to check the dimension of the array\n",
    "print(f\"Dimension of arr: {arr.ndim}\")"
   ]
  },
  {
   "cell_type": "code",
   "execution_count": 13,
   "metadata": {},
   "outputs": [
    {
     "name": "stdout",
     "output_type": "stream",
     "text": [
      "Dimension of arr1: 1\n",
      "Dimension of arr2: 2\n",
      "Dimension of arr3: 3\n"
     ]
    }
   ],
   "source": [
    "arr1 = np.array([1, 2, 3, 4, 5])\n",
    "arr2 = np.array([[1, 2, 3], [4, 5, 6]])\n",
    "arr3 = np.array([[[1, 2, 3], [4, 5, 6]], [[7, 8, 9], [10, 11, 12]]])\n",
    "print(f\"Dimension of arr1: {arr1.ndim}\")\n",
    "print(f\"Dimension of arr2: {arr2.ndim}\")\n",
    "print(f\"Dimension of arr3: {arr3.ndim}\")"
   ]
  },
  {
   "cell_type": "code",
   "execution_count": 14,
   "metadata": {},
   "outputs": [
    {
     "name": "stdout",
     "output_type": "stream",
     "text": [
      "[[ 1.  2.  3.  4.  5.]\n",
      " [ 6.  7.  8.  9. 10.]]\n",
      "Array shape: (2, 5)\n",
      "Size of Array: 10\n",
      "Itemsize of the Array: 8\n",
      "Datatype of the Array: float64\n",
      "Dimension of arr: 2\n"
     ]
    }
   ],
   "source": [
    "arr = np.array([[1, 2, 3, 4, 5], [6, 7, 8, 9, 10]], dtype=float)\n",
    "print(arr)\n",
    "print(f\"Array shape: {arr.shape}\")\n",
    "print(f\"Size of Array: {arr.size}\")\n",
    "print(f\"Itemsize of the Array: {arr.itemsize}\")\n",
    "print(f\"Datatype of the Array: {arr.dtype}\")\n",
    "print(f\"Dimension of arr: {arr.ndim}\")"
   ]
  },
  {
   "cell_type": "code",
   "execution_count": 15,
   "metadata": {},
   "outputs": [
    {
     "name": "stdout",
     "output_type": "stream",
     "text": [
      "[[[ 1.  2.  3.  4.  5.]\n",
      "  [ 6.  7.  8.  9. 10.]]\n",
      "\n",
      " [[11. 12. 13. 14. 15.]\n",
      "  [16. 17. 18. 19. 20.]]]\n",
      "Array shape: (2, 2, 5)\n",
      "Size of Array: 20\n",
      "Itemsize of the Array: 8\n",
      "Datatype of the Array: float64\n",
      "Dimension of arr: 3\n"
     ]
    }
   ],
   "source": [
    "arr = np.array([[[1, 2, 3, 4, 5], [6, 7, 8, 9, 10]], [[11, 12, 13, 14, 15], [16, 17, 18, 19, 20]]], dtype=float)\n",
    "print(arr)\n",
    "print(f\"Array shape: {arr.shape}\")\n",
    "print(f\"Size of Array: {arr.size}\")\n",
    "print(f\"Itemsize of the Array: {arr.itemsize}\")\n",
    "print(f\"Datatype of the Array: {arr.dtype}\")\n",
    "print(f\"Dimension of arr: {arr.ndim}\")"
   ]
  },
  {
   "cell_type": "markdown",
   "metadata": {},
   "source": [
    "### <b>Zeros and Ones Array</b>"
   ]
  },
  {
   "cell_type": "code",
   "execution_count": 16,
   "metadata": {},
   "outputs": [
    {
     "name": "stdout",
     "output_type": "stream",
     "text": [
      "[1. 1. 1. 1. 1.]\n",
      "[0. 0. 0. 0. 0.]\n",
      "[0. 0. 0. 0. 0.]\n"
     ]
    }
   ],
   "source": [
    "# creating an array of ones, zeros and empty array\n",
    "\n",
    "arr = np.ones(5) # this will create an array of 5 elements with all elements as 1\n",
    "print(arr)\n",
    "\n",
    "arr = np.zeros(5) # this will create an array of 5 elements with all elements as 0\n",
    "print(arr)\n",
    "\n",
    "arr = np.empty(5) # this will create an array of 5 elements with random values\n",
    "print(arr)"
   ]
  },
  {
   "cell_type": "code",
   "execution_count": 17,
   "metadata": {},
   "outputs": [
    {
     "name": "stdout",
     "output_type": "stream",
     "text": [
      "2D array of Zeros:\n",
      "[[0. 0. 0.]\n",
      " [0. 0. 0.]]\n",
      "\n",
      "3D array of Zeros:\n",
      "[[[0. 0. 0. 0.]\n",
      "  [0. 0. 0. 0.]\n",
      "  [0. 0. 0. 0.]]\n",
      "\n",
      " [[0. 0. 0. 0.]\n",
      "  [0. 0. 0. 0.]\n",
      "  [0. 0. 0. 0.]]]\n"
     ]
    }
   ],
   "source": [
    "zeros = np.zeros((2, 3)) # 2D array of zeros\n",
    "print(\"2D array of Zeros:\")\n",
    "print(zeros)\n",
    "\n",
    "print()\n",
    "zeros = np.zeros((2, 3, 4)) # 3D array of zeros\n",
    "print(\"3D array of Zeros:\")\n",
    "print(zeros)"
   ]
  },
  {
   "cell_type": "markdown",
   "metadata": {},
   "source": [
    "### <b>Linspace and Logspace</b>"
   ]
  },
  {
   "cell_type": "code",
   "execution_count": 18,
   "metadata": {},
   "outputs": [
    {
     "name": "stdout",
     "output_type": "stream",
     "text": [
      "Creating array using Linspace:\n",
      "[1. 2. 3. 4. 5.]\n",
      "Creating array using Logspace:\n",
      "[1.e+01 1.e+02 1.e+03 1.e+04 1.e+05]\n"
     ]
    }
   ],
   "source": [
    "# Linspace : this function is used to create an array of evenly spaced values over a specified range\n",
    "# syntax: np.linspace(start, stop, num=50, endpoint=True, retstep=False, dtype=None, axis=0)\n",
    "# start: the starting value of the sequence\n",
    "# stop: the end value of the sequence\n",
    "# num: the number of samples to generate, default is 50\n",
    "# endpoint: if true, stop is the last sample, otherwise, it is not included\n",
    "# retstep: if true, return (samples, step), where step is the spacing between samples\n",
    "# dtype: the type of the output array\n",
    "# axis: the axis in the result to store the samples\n",
    "\n",
    "# creating an array of evenly spaced values\n",
    "\n",
    "print(\"Creating array using Linspace:\")\n",
    "arr1 = np.linspace(1, 5, 5) # this will create an array of 1 to 5 with 5 equally spaced elements\n",
    "print(arr1)\n",
    "\n",
    "# Logspace: this function is used to create an array of evenly spaced values on a log scale\n",
    "# syntax: np.logspace(start, stop, num=50, endpoint=True, base=10.0, dtype=None, axis=0)\n",
    "# Base: the base of the log space, default is 10.0\n",
    "\n",
    "print(\"Creating array using Logspace:\")\n",
    "arr2 = np.logspace(1, 5, 5) # this will create an array of 1 to 5 with 5 equally spaced elements\n",
    "print(arr2)\n"
   ]
  },
  {
   "cell_type": "markdown",
   "metadata": {},
   "source": [
    "### <b>Arrays Indexing and Slicing</b>"
   ]
  },
  {
   "cell_type": "code",
   "execution_count": 19,
   "metadata": {},
   "outputs": [
    {
     "name": "stdout",
     "output_type": "stream",
     "text": [
      "[1 2 3 4 5 6 7 8 9]\n",
      "First element of the array: 1\n",
      "Second element of the array: 2\n",
      "Last element of the array: 9\n"
     ]
    }
   ],
   "source": [
    "# Indexing in 1D array\n",
    "# indexing in 1D array is similar to the indexing in python list, index start with zeor\n",
    "\n",
    "arr = np.arange(1, 10)\n",
    "print(arr)\n",
    "print(f'First element of the array: {arr[0]}')\n",
    "print(f'Second element of the array: {arr[1]}')\n",
    "print(f'Last element of the array: {arr[-1]}')"
   ]
  },
  {
   "cell_type": "code",
   "execution_count": 20,
   "metadata": {},
   "outputs": [
    {
     "name": "stdout",
     "output_type": "stream",
     "text": [
      "[1 2 3 4 5 6 7 8 9]\n",
      "[3 4 5 6]\n"
     ]
    }
   ],
   "source": [
    "# Slicing of array is also similar to python list\n",
    "a = arr[2:6] # index start with 0\n",
    "print(arr)\n",
    "print(a)"
   ]
  },
  {
   "cell_type": "code",
   "execution_count": 21,
   "metadata": {},
   "outputs": [
    {
     "name": "stdout",
     "output_type": "stream",
     "text": [
      "[[1 2 3]\n",
      " [4 5 6]\n",
      " [7 8 9]]\n",
      "Indexing in 2D array:\n",
      "Element at 0th row and 0th column: 1\n",
      "Element at 0th row and 1st column: 2\n",
      "Element at last row and last column: 9\n",
      "\n",
      "Slicing in 2D array:\n",
      "\n",
      "First row of the array:\n",
      "[1 2 3]\n",
      "First column of the array:\n",
      "[1 4 7]\n",
      "First two rows of the array:\n",
      "[[1 2 3]\n",
      " [4 5 6]]\n",
      "First two columns of the array:\n",
      "[[1 2]\n",
      " [4 5]\n",
      " [7 8]]\n",
      "Element at 0th row and 1st column:\n",
      "2\n"
     ]
    }
   ],
   "source": [
    "# Indexing in 2D array\n",
    "\n",
    "arr = np.array([[1, 2, 3], [4, 5, 6], [7, 8, 9]])\n",
    "print(arr)\n",
    "print(\"Indexing in 2D array:\")\n",
    "print(f'Element at 0th row and 0th column: {arr[0, 0]}')\n",
    "print(f'Element at 0th row and 1st column: {arr[0, 1]}')\n",
    "print(f'Element at last row and last column: {arr[-1, -1]}', end=\"\\n\\n\")\n",
    "\n",
    "print(\"Slicing in 2D array:\", end=\"\\n\\n\")\n",
    "\n",
    "print(f'First row of the array:')\n",
    "print(arr[0])\n",
    "print(f'First column of the array:')\n",
    "print(arr[:, 0])\n",
    "print(f'First two rows of the array:')\n",
    "print(arr[:2])\n",
    "print(f'First two columns of the array:')\n",
    "print(arr[:, :2])\n",
    "print(f'Element at 0th row and 1st column:')\n",
    "print(arr[0, 1])"
   ]
  },
  {
   "cell_type": "code",
   "execution_count": 22,
   "metadata": {},
   "outputs": [
    {
     "name": "stdout",
     "output_type": "stream",
     "text": [
      "[[[ 1  2  3]\n",
      "  [ 4  5  6]]\n",
      "\n",
      " [[ 7  8  9]\n",
      "  [10 11 12]]]\n",
      "\n",
      "Indexing in 3D array:\n",
      "\n",
      "Element at 0th row, 0th column and 0th depth:\n",
      "1\n",
      "Element at 1th row, 0th column and 1st depth:\n",
      "8\n"
     ]
    }
   ],
   "source": [
    "# Indexing in 3D array\n",
    "\n",
    "arr = np.array([[[1, 2, 3], [4, 5, 6]], [[7, 8, 9], [10, 11, 12]]])\n",
    "print(arr, end=\"\\n\\n\")\n",
    "print(\"Indexing in 3D array:\", end=\"\\n\\n\")\n",
    "print(f'Element at 0th row, 0th column and 0th depth:')\n",
    "print(arr[0, 0, 0])\n",
    "\n",
    "print(f'Element at 1th row, 0th column and 1st depth:')\n",
    "print(arr[1, 0, 1])"
   ]
  },
  {
   "cell_type": "markdown",
   "metadata": {},
   "source": [
    "### <b>Eye Function</b>"
   ]
  },
  {
   "cell_type": "code",
   "execution_count": 33,
   "metadata": {},
   "outputs": [
    {
     "name": "stdout",
     "output_type": "stream",
     "text": [
      "[[1. 0. 0.]\n",
      " [0. 1. 0.]\n",
      " [0. 0. 1.]]\n",
      "[[1. 0. 0. 0.]\n",
      " [0. 1. 0. 0.]\n",
      " [0. 0. 1. 0.]]\n",
      "[[1. 0. 0.]\n",
      " [0. 1. 0.]\n",
      " [0. 0. 1.]]\n",
      "[[1 0 0]\n",
      " [0 1 0]\n",
      " [0 0 1]]\n",
      "[[1 0 0]\n",
      " [0 1 0]\n",
      " [0 0 1]]\n"
     ]
    }
   ],
   "source": [
    "# Eye function: is used to create an identity matrix, i.e. a square matrix with ones on the main diagonal and zeros elsewhere\n",
    "\n",
    "arr = np.eye(3) # this will create a 3x3 identity matrix\n",
    "print(arr)\n",
    "\n",
    "arr = np.eye(3, 4) # this will create a 3x4 identity matrix\n",
    "print(arr)\n",
    "\n",
    "# Either you can use np.eye or np.identity to create an identity matrix\n",
    "arr = np.identity(3)\n",
    "print(arr)\n",
    "\n",
    "arr = np.identity(3, dtype=int)\n",
    "print(arr)\n",
    "arr = np.eye(3, dtype=int)\n",
    "print(arr)\n",
    "      "
   ]
  },
  {
   "cell_type": "markdown",
   "metadata": {},
   "source": [
    "### <b>Creating Arrays with Random</b>"
   ]
  },
  {
   "cell_type": "code",
   "execution_count": 37,
   "metadata": {},
   "outputs": [
    {
     "name": "stdout",
     "output_type": "stream",
     "text": [
      "[0.12197481 0.51442309 0.77337471 0.6947292  0.21815237]\n",
      "\n",
      "[[[0.24588387 0.0380255  0.53434175]\n",
      "  [0.15227012 0.90229362 0.36002576]\n",
      "  [0.2624716  0.07661055 0.95366137]]\n",
      "\n",
      " [[0.30906303 0.6227342  0.45268853]\n",
      "  [0.89867408 0.95502488 0.74950122]\n",
      "  [0.23176932 0.20745643 0.21264549]]]\n"
     ]
    }
   ],
   "source": [
    "# Random function: is used to generate random numbers\n",
    "# syntax: np.random.rand(d0, d1, ..., dn)\n",
    "\n",
    "# rand function: this function is used to generate random numbers between 0 and 1\n",
    "\n",
    "arr = np.random.rand(5) # this will create an array of 5 random numbers between 0 and 1\n",
    "print(arr, end=\"\\n\\n\")\n",
    "\n",
    "arr = np.random.rand(2, 3, 3) # this will create a 2x3 matrix of random numbers between 0 and 1\n",
    "print(arr)"
   ]
  },
  {
   "cell_type": "code",
   "execution_count": 40,
   "metadata": {},
   "outputs": [
    {
     "name": "stdout",
     "output_type": "stream",
     "text": [
      "[9 1 7 7 6]\n",
      "\n",
      "[[4 9 6]\n",
      " [5 8 3]]\n",
      "\n",
      "[[[69 24  2 50 33]\n",
      "  [37 70  8 23 27]\n",
      "  [38 75  5 13 61]\n",
      "  [ 4 76 63 67 36]]\n",
      "\n",
      " [[96  1 26  3 34]\n",
      "  [46 60 30  7 40]\n",
      "  [60 54 53 25 89]\n",
      "  [71 46 59 70  5]]\n",
      "\n",
      " [[58 51 22 20 25]\n",
      "  [55  9 13 87 86]\n",
      "  [38 80 50 98 59]\n",
      "  [60 90 51 59 71]]]\n",
      "\n"
     ]
    }
   ],
   "source": [
    "# randint function: this function is used to generate random integers\n",
    "# syntax: np.random.randint(low, high=None, size=None, dtype=int)\n",
    "\n",
    "arr = np.random.randint(1, 10, 5) # this will create an array of 5 random integers between 1 and 10\n",
    "print(arr, end=\"\\n\\n\")\n",
    "\n",
    "arr = np.random.randint(1, 10, (2, 3)) # this will create a 2x3 matrix of random integers between 1 and 10\n",
    "print(arr, end=\"\\n\\n\")\n",
    "\n",
    "arr = np.random.randint(1, 100, (3, 4, 5)) # this will create a 3x4x5 matrix of random integers between 1 and 100\n",
    "print(arr, end=\"\\n\\n\")"
   ]
  },
  {
   "cell_type": "code",
   "execution_count": 45,
   "metadata": {},
   "outputs": [
    {
     "name": "stdout",
     "output_type": "stream",
     "text": [
      "[ 1.22080142 -0.78825421  0.94013243  1.70200074  0.64012614]\n",
      "\n",
      "[[[ 0.30672943 -1.27401862  0.82697686 -0.97215979  0.83599848]\n",
      "  [ 0.22973658  0.08805083  0.91263516  0.15927893  0.79849895]\n",
      "  [-0.11911902  1.20706117 -1.03545737  1.41472641  0.69260013]\n",
      "  [ 0.52636009 -0.51909783 -0.17354077 -1.30962966 -0.2717326 ]]\n",
      "\n",
      " [[-0.71206748  0.03840844  0.20999717  0.26788655 -0.14472702]\n",
      "  [-0.96632462 -1.17513298 -0.61816119 -1.18839459 -1.27860612]\n",
      "  [-0.51617945 -0.56742857 -0.17777238  1.11166452  0.8474131 ]\n",
      "  [ 1.34440194  1.27795027  0.64725683  1.07289285  1.50056647]]\n",
      "\n",
      " [[-0.71480243 -0.3329304  -1.44433348 -0.15953897 -0.5268212 ]\n",
      "  [ 1.15896146  1.76307014 -1.36719427  0.26804885 -0.15737637]\n",
      "  [ 0.88022597  0.77690501  0.05110793  1.14498867 -0.39735677]\n",
      "  [-1.37880909 -1.28755088 -0.11572568 -1.21903603  0.51074763]]]\n",
      "\n"
     ]
    }
   ],
   "source": [
    "# Randn function: this function is used to generate random numbers from a normal distribution\n",
    "# syntax: np.random.randn(d0, d1, ..., dn)\n",
    "\n",
    "arr = np.random.randn(5) # this will create an array of 5 random numbers from a normal distribution\n",
    "print(arr, end=\"\\n\\n\")\n",
    "\n",
    "arr = np.random.randn(3, 4, 5) # this will create a 3x4x5 matrix of random numbers from a normal distribution\n",
    "print(arr, end=\"\\n\\n\")\n",
    "\n",
    "# arr = np.random.randn(2, 3, 4, 5) # this will create a 2x3x4x5 matrix of random numbers from a normal distribution\n",
    "# print(arr)"
   ]
  },
  {
   "cell_type": "markdown",
   "metadata": {},
   "source": [
    "Is data generated by randn actually normally distributed or not"
   ]
  },
  {
   "cell_type": "code",
   "execution_count": 48,
   "metadata": {},
   "outputs": [
    {
     "data": {
      "text/plain": [
       "(array([1.0000e+00, 0.0000e+00, 1.0000e+00, 0.0000e+00, 0.0000e+00,\n",
       "        1.0000e+00, 0.0000e+00, 0.0000e+00, 0.0000e+00, 1.0000e+00,\n",
       "        0.0000e+00, 0.0000e+00, 1.0000e+00, 0.0000e+00, 0.0000e+00,\n",
       "        1.0000e+00, 1.0000e+00, 0.0000e+00, 1.0000e+00, 2.0000e+00,\n",
       "        2.0000e+00, 0.0000e+00, 0.0000e+00, 1.0000e+00, 0.0000e+00,\n",
       "        0.0000e+00, 2.0000e+00, 1.0000e+00, 0.0000e+00, 0.0000e+00,\n",
       "        1.0000e+00, 0.0000e+00, 3.0000e+00, 1.0000e+00, 1.0000e+00,\n",
       "        2.0000e+00, 2.0000e+00, 0.0000e+00, 1.0000e+00, 0.0000e+00,\n",
       "        1.0000e+00, 2.0000e+00, 2.0000e+00, 4.0000e+00, 2.0000e+00,\n",
       "        1.0000e+00, 2.0000e+00, 2.0000e+00, 1.0000e+00, 1.0000e+00,\n",
       "        2.0000e+00, 2.0000e+00, 5.0000e+00, 4.0000e+00, 5.0000e+00,\n",
       "        1.0000e+00, 3.0000e+00, 2.0000e+00, 3.0000e+00, 4.0000e+00,\n",
       "        7.0000e+00, 4.0000e+00, 4.0000e+00, 2.0000e+00, 8.0000e+00,\n",
       "        1.0000e+00, 6.0000e+00, 3.0000e+00, 3.0000e+00, 6.0000e+00,\n",
       "        4.0000e+00, 8.0000e+00, 1.1000e+01, 9.0000e+00, 4.0000e+00,\n",
       "        5.0000e+00, 2.0000e+00, 1.2000e+01, 6.0000e+00, 9.0000e+00,\n",
       "        6.0000e+00, 9.0000e+00, 1.0000e+01, 1.2000e+01, 8.0000e+00,\n",
       "        1.1000e+01, 1.0000e+01, 1.0000e+01, 1.1000e+01, 1.2000e+01,\n",
       "        8.0000e+00, 1.4000e+01, 1.4000e+01, 2.0000e+01, 1.4000e+01,\n",
       "        1.3000e+01, 2.0000e+01, 1.6000e+01, 1.4000e+01, 1.9000e+01,\n",
       "        1.5000e+01, 2.6000e+01, 2.0000e+01, 2.1000e+01, 2.2000e+01,\n",
       "        1.9000e+01, 2.3000e+01, 3.2000e+01, 1.7000e+01, 2.4000e+01,\n",
       "        2.8000e+01, 2.9000e+01, 2.4000e+01, 3.0000e+01, 2.6000e+01,\n",
       "        3.2000e+01, 2.4000e+01, 4.2000e+01, 4.4000e+01, 3.8000e+01,\n",
       "        3.8000e+01, 4.8000e+01, 5.1000e+01, 5.2000e+01, 5.1000e+01,\n",
       "        4.4000e+01, 4.1000e+01, 6.8000e+01, 6.3000e+01, 5.8000e+01,\n",
       "        5.0000e+01, 6.0000e+01, 7.1000e+01, 6.4000e+01, 7.0000e+01,\n",
       "        7.5000e+01, 4.8000e+01, 9.5000e+01, 8.7000e+01, 7.0000e+01,\n",
       "        8.6000e+01, 9.8000e+01, 8.9000e+01, 9.1000e+01, 9.8000e+01,\n",
       "        9.7000e+01, 1.0000e+02, 1.0500e+02, 1.0900e+02, 1.0100e+02,\n",
       "        1.3500e+02, 1.2600e+02, 1.3500e+02, 1.3600e+02, 1.5700e+02,\n",
       "        1.3600e+02, 1.5400e+02, 1.6000e+02, 1.3900e+02, 1.8800e+02,\n",
       "        1.9900e+02, 1.6200e+02, 1.9700e+02, 1.9200e+02, 2.1200e+02,\n",
       "        2.1200e+02, 2.1400e+02, 2.0900e+02, 2.2500e+02, 2.3100e+02,\n",
       "        2.4000e+02, 2.4400e+02, 2.1700e+02, 2.5700e+02, 3.0400e+02,\n",
       "        2.7100e+02, 2.7000e+02, 3.3700e+02, 3.2300e+02, 3.3100e+02,\n",
       "        3.3700e+02, 3.3200e+02, 3.5500e+02, 3.6300e+02, 3.6000e+02,\n",
       "        3.6000e+02, 4.3200e+02, 4.0400e+02, 4.2300e+02, 4.4700e+02,\n",
       "        4.5700e+02, 4.6300e+02, 4.7000e+02, 4.9300e+02, 4.6800e+02,\n",
       "        5.1500e+02, 5.5100e+02, 5.5800e+02, 6.1900e+02, 5.9000e+02,\n",
       "        6.1000e+02, 6.3000e+02, 6.0000e+02, 6.9800e+02, 6.6200e+02,\n",
       "        7.1400e+02, 8.1100e+02, 7.6900e+02, 7.8200e+02, 7.9500e+02,\n",
       "        8.5200e+02, 8.5200e+02, 8.9400e+02, 9.2100e+02, 9.3500e+02,\n",
       "        9.3300e+02, 9.5600e+02, 1.0600e+03, 9.9800e+02, 1.0840e+03,\n",
       "        1.1000e+03, 1.1280e+03, 1.1350e+03, 1.1760e+03, 1.2520e+03,\n",
       "        1.2440e+03, 1.2900e+03, 1.2820e+03, 1.4260e+03, 1.4000e+03,\n",
       "        1.4660e+03, 1.4360e+03, 1.5610e+03, 1.5910e+03, 1.5860e+03,\n",
       "        1.6950e+03, 1.6730e+03, 1.7180e+03, 1.7260e+03, 1.8010e+03,\n",
       "        1.8400e+03, 1.8720e+03, 2.0170e+03, 2.0050e+03, 2.0900e+03,\n",
       "        2.1140e+03, 2.2140e+03, 2.1520e+03, 2.2730e+03, 2.3390e+03,\n",
       "        2.3690e+03, 2.4590e+03, 2.5090e+03, 2.5050e+03, 2.6340e+03,\n",
       "        2.6330e+03, 2.7580e+03, 2.8730e+03, 2.9170e+03, 3.0150e+03,\n",
       "        3.0930e+03, 3.1350e+03, 3.2300e+03, 3.2850e+03, 3.4190e+03,\n",
       "        3.4720e+03, 3.5120e+03, 3.6730e+03, 3.7480e+03, 3.7830e+03,\n",
       "        3.9340e+03, 3.9830e+03, 4.1270e+03, 4.1590e+03, 4.2190e+03,\n",
       "        4.4190e+03, 4.4270e+03, 4.4590e+03, 4.6150e+03, 4.8370e+03,\n",
       "        4.7290e+03, 4.8880e+03, 5.0730e+03, 5.0730e+03, 5.3230e+03,\n",
       "        5.4420e+03, 5.5420e+03, 5.6920e+03, 5.8600e+03, 5.8260e+03,\n",
       "        6.0870e+03, 6.1510e+03, 6.3210e+03, 6.1790e+03, 6.4430e+03,\n",
       "        6.5390e+03, 6.5900e+03, 6.6820e+03, 6.9500e+03, 7.3050e+03,\n",
       "        7.2640e+03, 7.4410e+03, 7.2700e+03, 7.7470e+03, 7.8130e+03,\n",
       "        8.0240e+03, 8.1790e+03, 8.1300e+03, 8.2590e+03, 8.7640e+03,\n",
       "        8.7240e+03, 8.7630e+03, 9.0560e+03, 9.1910e+03, 9.4570e+03,\n",
       "        9.6870e+03, 9.7030e+03, 9.9990e+03, 1.0031e+04, 1.0277e+04,\n",
       "        1.0490e+04, 1.0706e+04, 1.0953e+04, 1.1055e+04, 1.1134e+04,\n",
       "        1.1259e+04, 1.1528e+04, 1.1817e+04, 1.1988e+04, 1.2206e+04,\n",
       "        1.2471e+04, 1.2689e+04, 1.2890e+04, 1.2798e+04, 1.3139e+04,\n",
       "        1.3456e+04, 1.3529e+04, 1.3998e+04, 1.3864e+04, 1.4278e+04,\n",
       "        1.4641e+04, 1.4450e+04, 1.5009e+04, 1.5074e+04, 1.5415e+04,\n",
       "        1.5712e+04, 1.5715e+04, 1.6110e+04, 1.6191e+04, 1.6546e+04,\n",
       "        1.6486e+04, 1.6927e+04, 1.7065e+04, 1.7670e+04, 1.7624e+04,\n",
       "        1.7737e+04, 1.8114e+04, 1.8443e+04, 1.8831e+04, 1.8904e+04,\n",
       "        1.9376e+04, 1.9467e+04, 1.9857e+04, 1.9740e+04, 2.0437e+04,\n",
       "        2.0327e+04, 2.0470e+04, 2.0959e+04, 2.1005e+04, 2.1162e+04,\n",
       "        2.1631e+04, 2.2170e+04, 2.2308e+04, 2.2205e+04, 2.2480e+04,\n",
       "        2.2830e+04, 2.3397e+04, 2.3454e+04, 2.3688e+04, 2.3870e+04,\n",
       "        2.4319e+04, 2.4526e+04, 2.4806e+04, 2.5152e+04, 2.5424e+04,\n",
       "        2.5333e+04, 2.5847e+04, 2.6163e+04, 2.6158e+04, 2.6687e+04,\n",
       "        2.6935e+04, 2.6956e+04, 2.7676e+04, 2.7339e+04, 2.7723e+04,\n",
       "        2.8048e+04, 2.8381e+04, 2.8605e+04, 2.9111e+04, 2.9071e+04,\n",
       "        2.9505e+04, 2.9812e+04, 2.9765e+04, 3.0035e+04, 3.0206e+04,\n",
       "        3.0716e+04, 3.0799e+04, 3.0934e+04, 3.0960e+04, 3.1449e+04,\n",
       "        3.2113e+04, 3.2302e+04, 3.1791e+04, 3.2234e+04, 3.2875e+04,\n",
       "        3.3114e+04, 3.3364e+04, 3.3601e+04, 3.4034e+04, 3.3682e+04,\n",
       "        3.3912e+04, 3.4284e+04, 3.4312e+04, 3.4770e+04, 3.5029e+04,\n",
       "        3.5175e+04, 3.5483e+04, 3.5533e+04, 3.5670e+04, 3.5830e+04,\n",
       "        3.6003e+04, 3.6531e+04, 3.6598e+04, 3.6481e+04, 3.7053e+04,\n",
       "        3.7310e+04, 3.7449e+04, 3.7463e+04, 3.7570e+04, 3.7621e+04,\n",
       "        3.8162e+04, 3.7615e+04, 3.8136e+04, 3.8335e+04, 3.8676e+04,\n",
       "        3.8605e+04, 3.8877e+04, 3.8869e+04, 3.8946e+04, 3.8900e+04,\n",
       "        3.9074e+04, 3.9673e+04, 3.9666e+04, 3.9624e+04, 4.0061e+04,\n",
       "        4.0170e+04, 3.9841e+04, 4.0279e+04, 4.0517e+04, 4.0501e+04,\n",
       "        4.0180e+04, 4.0329e+04, 4.0822e+04, 4.0925e+04, 4.0945e+04,\n",
       "        4.0512e+04, 4.1141e+04, 4.1020e+04, 4.0951e+04, 4.0580e+04,\n",
       "        4.0976e+04, 4.1222e+04, 4.1215e+04, 4.1332e+04, 4.1165e+04,\n",
       "        4.1037e+04, 4.1228e+04, 4.0952e+04, 4.1406e+04, 4.1465e+04,\n",
       "        4.1276e+04, 4.1433e+04, 4.1303e+04, 4.1092e+04, 4.1005e+04,\n",
       "        4.1576e+04, 4.0847e+04, 4.1256e+04, 4.0989e+04, 4.1294e+04,\n",
       "        4.0881e+04, 4.1525e+04, 4.1016e+04, 4.1078e+04, 4.0582e+04,\n",
       "        4.0760e+04, 4.0708e+04, 4.0857e+04, 4.0824e+04, 4.0663e+04,\n",
       "        4.0741e+04, 4.0355e+04, 4.0097e+04, 4.0244e+04, 4.0243e+04,\n",
       "        4.0151e+04, 4.0204e+04, 3.9546e+04, 3.9834e+04, 3.9475e+04,\n",
       "        3.9050e+04, 3.9387e+04, 3.9276e+04, 3.8555e+04, 3.8797e+04,\n",
       "        3.8570e+04, 3.8941e+04, 3.8483e+04, 3.8076e+04, 3.7754e+04,\n",
       "        3.7574e+04, 3.7678e+04, 3.7623e+04, 3.7829e+04, 3.7282e+04,\n",
       "        3.7067e+04, 3.6863e+04, 3.6766e+04, 3.6503e+04, 3.6167e+04,\n",
       "        3.6435e+04, 3.5772e+04, 3.5639e+04, 3.5653e+04, 3.5146e+04,\n",
       "        3.4628e+04, 3.4852e+04, 3.4799e+04, 3.4677e+04, 3.4082e+04,\n",
       "        3.4060e+04, 3.3769e+04, 3.3605e+04, 3.3473e+04, 3.3022e+04,\n",
       "        3.2859e+04, 3.2502e+04, 3.2420e+04, 3.2057e+04, 3.1744e+04,\n",
       "        3.1830e+04, 3.1286e+04, 3.1535e+04, 3.1160e+04, 3.1017e+04,\n",
       "        3.0329e+04, 3.0537e+04, 3.0033e+04, 2.9658e+04, 2.9480e+04,\n",
       "        2.9237e+04, 2.8957e+04, 2.8926e+04, 2.8440e+04, 2.8229e+04,\n",
       "        2.8180e+04, 2.7514e+04, 2.7169e+04, 2.6963e+04, 2.7250e+04,\n",
       "        2.7049e+04, 2.6478e+04, 2.6470e+04, 2.6201e+04, 2.5897e+04,\n",
       "        2.5692e+04, 2.5047e+04, 2.4810e+04, 2.4883e+04, 2.4338e+04,\n",
       "        2.4418e+04, 2.3941e+04, 2.3721e+04, 2.3421e+04, 2.3086e+04,\n",
       "        2.2506e+04, 2.2715e+04, 2.2506e+04, 2.1886e+04, 2.1672e+04,\n",
       "        2.1589e+04, 2.1304e+04, 2.1020e+04, 2.0624e+04, 2.0480e+04,\n",
       "        2.0146e+04, 2.0148e+04, 1.9824e+04, 1.9594e+04, 1.9170e+04,\n",
       "        1.9175e+04, 1.8828e+04, 1.8609e+04, 1.8210e+04, 1.8121e+04,\n",
       "        1.7878e+04, 1.7834e+04, 1.7432e+04, 1.7076e+04, 1.6663e+04,\n",
       "        1.6652e+04, 1.6344e+04, 1.6067e+04, 1.6041e+04, 1.5772e+04,\n",
       "        1.5583e+04, 1.5237e+04, 1.4936e+04, 1.5024e+04, 1.4669e+04,\n",
       "        1.4483e+04, 1.4208e+04, 1.3877e+04, 1.3764e+04, 1.3629e+04,\n",
       "        1.3510e+04, 1.3147e+04, 1.2994e+04, 1.2668e+04, 1.2426e+04,\n",
       "        1.2353e+04, 1.2096e+04, 1.2026e+04, 1.1667e+04, 1.1561e+04,\n",
       "        1.1387e+04, 1.1109e+04, 1.1009e+04, 1.0892e+04, 1.0695e+04,\n",
       "        1.0261e+04, 1.0416e+04, 1.0222e+04, 9.8520e+03, 9.7520e+03,\n",
       "        9.5730e+03, 9.4490e+03, 9.1790e+03, 9.1070e+03, 9.0630e+03,\n",
       "        8.6570e+03, 8.6280e+03, 8.4700e+03, 8.3030e+03, 8.1020e+03,\n",
       "        8.0680e+03, 7.7430e+03, 7.6180e+03, 7.5760e+03, 7.5350e+03,\n",
       "        7.2180e+03, 7.0410e+03, 6.9540e+03, 6.9450e+03, 6.6500e+03,\n",
       "        6.6060e+03, 6.6090e+03, 6.2610e+03, 6.1310e+03, 6.1340e+03,\n",
       "        5.8980e+03, 5.8170e+03, 5.7460e+03, 5.5360e+03, 5.5550e+03,\n",
       "        5.4440e+03, 5.2940e+03, 5.2610e+03, 5.1090e+03, 4.8560e+03,\n",
       "        4.7710e+03, 4.5320e+03, 4.6240e+03, 4.5390e+03, 4.3990e+03,\n",
       "        4.4700e+03, 4.2730e+03, 4.0940e+03, 4.0770e+03, 3.9960e+03,\n",
       "        3.8450e+03, 3.8230e+03, 3.7370e+03, 3.6820e+03, 3.5080e+03,\n",
       "        3.4420e+03, 3.2900e+03, 3.2410e+03, 3.2570e+03, 3.1620e+03,\n",
       "        2.9980e+03, 2.9510e+03, 2.9140e+03, 2.8880e+03, 2.8370e+03,\n",
       "        2.6910e+03, 2.7430e+03, 2.5760e+03, 2.5310e+03, 2.4360e+03,\n",
       "        2.4670e+03, 2.3860e+03, 2.3190e+03, 2.1840e+03, 2.1660e+03,\n",
       "        2.1150e+03, 2.0350e+03, 2.0070e+03, 1.9860e+03, 1.9380e+03,\n",
       "        1.8710e+03, 1.8350e+03, 1.8070e+03, 1.7140e+03, 1.6910e+03,\n",
       "        1.6910e+03, 1.6200e+03, 1.5670e+03, 1.5730e+03, 1.5510e+03,\n",
       "        1.4100e+03, 1.4260e+03, 1.3090e+03, 1.3560e+03, 1.2700e+03,\n",
       "        1.2190e+03, 1.2370e+03, 1.2420e+03, 1.1550e+03, 1.0730e+03,\n",
       "        1.0310e+03, 1.0590e+03, 1.0160e+03, 9.9700e+02, 9.9200e+02,\n",
       "        9.7900e+02, 9.7400e+02, 9.1000e+02, 8.8000e+02, 8.5700e+02,\n",
       "        8.1300e+02, 7.4900e+02, 7.6600e+02, 6.9700e+02, 7.0700e+02,\n",
       "        7.1200e+02, 6.8200e+02, 7.1700e+02, 6.3300e+02, 6.5900e+02,\n",
       "        6.0800e+02, 5.8100e+02, 6.1300e+02, 5.6100e+02, 5.5700e+02,\n",
       "        5.5100e+02, 5.3500e+02, 5.1400e+02, 4.9300e+02, 4.5500e+02,\n",
       "        4.8000e+02, 4.2000e+02, 4.4800e+02, 3.8200e+02, 3.8200e+02,\n",
       "        3.8400e+02, 3.8800e+02, 3.9300e+02, 3.5400e+02, 3.0200e+02,\n",
       "        3.5200e+02, 3.3500e+02, 2.6500e+02, 2.6800e+02, 2.8100e+02,\n",
       "        2.9500e+02, 2.6900e+02, 2.5600e+02, 2.4900e+02, 2.5100e+02,\n",
       "        2.8100e+02, 2.3300e+02, 2.2400e+02, 2.1400e+02, 2.1200e+02,\n",
       "        1.9800e+02, 2.0400e+02, 1.8300e+02, 1.7100e+02, 1.8500e+02,\n",
       "        1.8300e+02, 1.6400e+02, 1.6500e+02, 1.8600e+02, 1.3500e+02,\n",
       "        1.4700e+02, 1.2700e+02, 1.4000e+02, 1.2700e+02, 1.3200e+02,\n",
       "        1.4900e+02, 9.4000e+01, 1.2500e+02, 1.1500e+02, 1.1000e+02,\n",
       "        9.2000e+01, 9.2000e+01, 8.5000e+01, 9.4000e+01, 8.6000e+01,\n",
       "        8.8000e+01, 8.7000e+01, 9.1000e+01, 7.7000e+01, 7.3000e+01,\n",
       "        7.1000e+01, 7.6000e+01, 5.9000e+01, 4.9000e+01, 6.2000e+01,\n",
       "        5.3000e+01, 4.9000e+01, 5.6000e+01, 5.3000e+01, 4.5000e+01,\n",
       "        4.8000e+01, 4.5000e+01, 3.9000e+01, 4.2000e+01, 3.9000e+01,\n",
       "        3.9000e+01, 4.6000e+01, 2.7000e+01, 2.5000e+01, 3.4000e+01,\n",
       "        3.4000e+01, 2.2000e+01, 3.4000e+01, 3.1000e+01, 3.4000e+01,\n",
       "        3.0000e+01, 2.2000e+01, 2.5000e+01, 1.8000e+01, 2.7000e+01,\n",
       "        2.5000e+01, 2.8000e+01, 1.8000e+01, 1.6000e+01, 2.5000e+01,\n",
       "        1.6000e+01, 2.0000e+01, 1.4000e+01, 1.5000e+01, 2.1000e+01,\n",
       "        1.4000e+01, 1.8000e+01, 1.6000e+01, 9.0000e+00, 1.3000e+01,\n",
       "        8.0000e+00, 1.6000e+01, 1.1000e+01, 1.0000e+01, 1.5000e+01,\n",
       "        1.1000e+01, 1.1000e+01, 9.0000e+00, 6.0000e+00, 9.0000e+00,\n",
       "        6.0000e+00, 8.0000e+00, 7.0000e+00, 6.0000e+00, 9.0000e+00,\n",
       "        9.0000e+00, 1.1000e+01, 9.0000e+00, 2.0000e+00, 5.0000e+00,\n",
       "        8.0000e+00, 5.0000e+00, 4.0000e+00, 3.0000e+00, 3.0000e+00,\n",
       "        4.0000e+00, 2.0000e+00, 5.0000e+00, 4.0000e+00, 2.0000e+00,\n",
       "        6.0000e+00, 5.0000e+00, 1.0000e+00, 6.0000e+00, 1.0000e+00,\n",
       "        2.0000e+00, 1.0000e+00, 0.0000e+00, 3.0000e+00, 2.0000e+00,\n",
       "        1.0000e+00, 0.0000e+00, 2.0000e+00, 2.0000e+00, 0.0000e+00,\n",
       "        1.0000e+00, 0.0000e+00, 1.0000e+00, 1.0000e+00, 0.0000e+00,\n",
       "        3.0000e+00, 1.0000e+00, 1.0000e+00, 1.0000e+00, 1.0000e+00,\n",
       "        0.0000e+00, 0.0000e+00, 2.0000e+00, 3.0000e+00, 0.0000e+00,\n",
       "        0.0000e+00, 0.0000e+00, 1.0000e+00, 0.0000e+00, 0.0000e+00,\n",
       "        2.0000e+00, 1.0000e+00, 0.0000e+00, 0.0000e+00, 0.0000e+00,\n",
       "        0.0000e+00, 0.0000e+00, 2.0000e+00, 2.0000e+00, 0.0000e+00,\n",
       "        0.0000e+00, 0.0000e+00, 0.0000e+00, 0.0000e+00, 0.0000e+00,\n",
       "        0.0000e+00, 1.0000e+00, 0.0000e+00, 0.0000e+00, 0.0000e+00,\n",
       "        1.0000e+00, 0.0000e+00, 0.0000e+00, 0.0000e+00, 0.0000e+00,\n",
       "        1.0000e+00, 1.0000e+00, 0.0000e+00, 0.0000e+00, 0.0000e+00,\n",
       "        0.0000e+00, 0.0000e+00, 0.0000e+00, 0.0000e+00, 0.0000e+00,\n",
       "        1.0000e+00, 0.0000e+00, 0.0000e+00, 0.0000e+00, 0.0000e+00,\n",
       "        0.0000e+00, 0.0000e+00, 0.0000e+00, 0.0000e+00, 0.0000e+00,\n",
       "        0.0000e+00, 0.0000e+00, 0.0000e+00, 1.0000e+00, 0.0000e+00,\n",
       "        0.0000e+00, 0.0000e+00, 0.0000e+00, 0.0000e+00, 0.0000e+00,\n",
       "        0.0000e+00, 0.0000e+00, 0.0000e+00, 0.0000e+00, 0.0000e+00,\n",
       "        0.0000e+00, 1.0000e+00, 0.0000e+00, 0.0000e+00, 1.0000e+00]),\n",
       " array([-4.97562675, -4.96526884, -4.95491094, ...,  5.36156165,\n",
       "         5.37191956,  5.38227746]),\n",
       " <BarContainer object of 1000 artists>)"
      ]
     },
     "execution_count": 48,
     "metadata": {},
     "output_type": "execute_result"
    },
    {
     "data": {
      "image/png": "[encoded data removed]",
      "text/plain": [
       "<Figure size 640x480 with 1 Axes>"
      ]
     },
     "metadata": {},
     "output_type": "display_data"
    }
   ],
   "source": [
    "import matplotlib.pyplot as plt\n",
    "# creating an array of random numbers\n",
    "arr = np.random.randn(9999999)\n",
    "# Plotting the histogram of the array\n",
    "\n",
    "plt.hist(arr, bins=1000)"
   ]
  },
  {
   "cell_type": "markdown",
   "metadata": {},
   "source": [
    "---"
   ]
  },
  {
   "cell_type": "markdown",
   "metadata": {},
   "source": [
    "### <b>Copy Function</b>"
   ]
  },
  {
   "cell_type": "code",
   "execution_count": 49,
   "metadata": {},
   "outputs": [
    {
     "name": "stdout",
     "output_type": "stream",
     "text": [
      "[1 2 3 4 5]\n",
      "[3 4]\n",
      "[10  4]\n",
      "[ 1  2 10  4  5]\n"
     ]
    }
   ],
   "source": [
    "# Slicing in array returns the view of the array, not the copy of the array\n",
    "# if you modify the sliced array, the original array will also be modified\n",
    "\n",
    "arr = np.array([1, 2, 3, 4, 5])\n",
    "print(arr)\n",
    "a = arr[2:4]\n",
    "print(a)\n",
    "\n",
    "a[0] = 10\n",
    "print(a)\n",
    "print(arr)"
   ]
  },
  {
   "cell_type": "code",
   "execution_count": 52,
   "metadata": {},
   "outputs": [
    {
     "name": "stdout",
     "output_type": "stream",
     "text": [
      "[1 2 3 4 5]\n",
      "[3 4]\n",
      "[10  4]\n",
      "[1 2 3 4 5]\n"
     ]
    }
   ],
   "source": [
    "# So to avoid this, you can use copy method to create a copy of the array\n",
    "arr = np.array([1, 2, 3, 4, 5])\n",
    "print(arr)\n",
    "\n",
    "a = arr[2:4].copy()\n",
    "print(a)\n",
    "\n",
    "a[0] = 10\n",
    "print(a)\n",
    "print(arr) # the original will remain same\n",
    "# Same with 2D array and ND array"
   ]
  },
  {
   "cell_type": "markdown",
   "metadata": {},
   "source": [
    "### <b>Flatten Function:</b>\n",
    "\n",
    "Flatten function return a copy of the array collapsed into one dimension"
   ]
  },
  {
   "cell_type": "code",
   "execution_count": 54,
   "metadata": {},
   "outputs": [
    {
     "name": "stdout",
     "output_type": "stream",
     "text": [
      "[1 2 3 4 5 6 7 8 9]\n",
      "[ 1  2  3  4  5  6  7  8  9 10 11 12]\n"
     ]
    }
   ],
   "source": [
    "arr = np.array([[1, 2, 3], [4, 5, 6], [7, 8, 9]])\n",
    "a = arr.flatten() # this will convert the 2D array into 1D array\n",
    "print(a)\n",
    "\n",
    "arr3 = np.array([[[1, 2, 3], [4, 5, 6]], [[7, 8, 9], [10, 11, 12]]])\n",
    "a = arr3.flatten()\n",
    "print(a)"
   ]
  },
  {
   "cell_type": "code",
   "execution_count": null,
   "metadata": {},
   "outputs": [],
   "source": []
  }
 ],
 "metadata": {
  "kernelspec": {
   "display_name": "Python 3 (ipykernel)",
   "language": "python",
   "name": "python3"
  },
  "language_info": {
   "codemirror_mode": {
    "name": "ipython",
    "version": 3
   },
   "file_extension": ".py",
   "mimetype": "text/x-python",
   "name": "python",
   "nbconvert_exporter": "python",
   "pygments_lexer": "ipython3",
   "version": "3.11.8"
  }
 },
 "nbformat": 4,
 "nbformat_minor": 4
}
